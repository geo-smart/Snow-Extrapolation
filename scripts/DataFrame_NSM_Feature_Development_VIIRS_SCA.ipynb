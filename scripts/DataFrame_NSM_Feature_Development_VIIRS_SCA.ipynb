{
 "cells": [
  {
   "cell_type": "code",
   "execution_count": 1,
   "id": "deluxe-phone",
   "metadata": {},
   "outputs": [
    {
     "name": "stderr",
     "output_type": "stream",
     "text": [
      "C:\\Users\\rjohnson18\\Anaconda3\\envs\\NSM_env\\lib\\site-packages\\geopandas\\_compat.py:111: UserWarning: The Shapely GEOS version (3.10.2-CAPI-1.16.0) is incompatible with the GEOS version PyGEOS was compiled with (3.10.3-CAPI-1.16.1). Conversions between both will be slow.\n",
      "  warnings.warn(\n",
      "C:\\Users\\rjohnson18\\Anaconda3\\envs\\NSM_env\\lib\\site-packages\\xarray\\backends\\cfgrib_.py:29: UserWarning: Failed to load cfgrib - most likely there is a problem accessing the ecCodes library. Try `import cfgrib` to get the full error message\n",
      "  warnings.warn(\n"
     ]
    }
   ],
   "source": [
    "# Import packages\n",
    "\n",
    "# NSM Packages\n",
    "from National_Snow_Model import SWE_Prediction\n",
    "import National_Snow_Model\n",
    "import NSM_SCA\n",
    "\n",
    "\n",
    "# Dataframe Packages\n",
    "import numpy as np\n",
    "import xarray as xr\n",
    "import pandas as pd\n",
    "\n",
    "# Vector Packages\n",
    "import geopandas as gpd\n",
    "import shapely\n",
    "\n",
    "# Raster Packages\n",
    "import rioxarray as rxr\n",
    "from rioxarray.merge import merge_arrays\n",
    "import rasterstats as rs\n",
    "\n",
    "# Data Access Packages\n",
    "import earthaccess as ea\n",
    "from nsidc_fetch import download, format_date, format_boundingbox\n",
    "import h5py\n",
    "import pickle\n",
    "from tensorflow.keras.models import load_model\n",
    "\n",
    "# General Packages\n",
    "import re\n",
    "from datetime import datetime\n",
    "import glob\n",
    "from pprint import pprint\n",
    "from typing import Union\n",
    "from pathlib import Path\n",
    "from tqdm import tqdm\n",
    "import time\n",
    "import os\n",
    "import functools\n",
    "import operator\n",
    "from tqdm import tqdm\n",
    "\n",
    "# Ignore some matplotlib deprecation warnings\n",
    "import warnings; warnings.simplefilter(\"ignore\")\n",
    "\n"
   ]
  },
  {
   "cell_type": "code",
   "execution_count": 2,
   "id": "55e9f631",
   "metadata": {},
   "outputs": [],
   "source": [
    "# function to get unique values\n",
    "def unique(list1):\n",
    " \n",
    "    # initialize a null list\n",
    "    unique_list = []\n",
    " \n",
    "    # traverse for all elements\n",
    "    for x in list1:\n",
    "        # check if exists in unique_list or not\n",
    "        if x not in unique_list:\n",
    "            unique_list.append(x)\n",
    "    return unique_list\n"
   ]
  },
  {
   "cell_type": "code",
   "execution_count": 3,
   "id": "angry-trade",
   "metadata": {},
   "outputs": [],
   "source": [
    "#Set working directories\n",
    "cwd = os.getcwd()\n",
    "os.chdir(\"..\")\n",
    "datapath = os.getcwd()   "
   ]
  },
  {
   "cell_type": "markdown",
   "id": "8ba79414",
   "metadata": {},
   "source": [
    "## Load and process the training data\n",
    "\n",
    "The training data needs to be combined into a large DF with all regions present and subsampled by date to connect the VIIRS SCA observations. \n",
    "For each region, we select the lat/long and date for each grid cell."
   ]
  },
  {
   "cell_type": "code",
   "execution_count": 4,
   "id": "63a74ec4",
   "metadata": {
    "scrolled": true
   },
   "outputs": [
    {
     "name": "stdout",
     "output_type": "stream",
     "text": [
      "Processing training data regions into one dataframe\n"
     ]
    },
    {
     "name": "stderr",
     "output_type": "stream",
     "text": [
      "100%|██████████| 23/23 [00:00<00:00, 48.58it/s]\n"
     ]
    },
    {
     "name": "stdout",
     "output_type": "stream",
     "text": [
      "Collecting dates within training data\n"
     ]
    },
    {
     "name": "stderr",
     "output_type": "stream",
     "text": [
      "100%|██████████| 209/209 [00:00<00:00, 1135.29it/s]\n"
     ]
    }
   ],
   "source": [
    "#load in training data and get unique dates\n",
    "#set data path\n",
    "training_path = f\"{datapath}/Data/VIIRS_SCA/Training_Testing_Data/Provided_Data/\"\n",
    "\n",
    "#get region ids\n",
    "Regions = pd.read_csv(f\"{training_path}/Regions.csv\")\n",
    "Region_list =list(Regions['Regions'].values)\n",
    "\n",
    "#load training data\n",
    "TrainDF = pd.DataFrame()\n",
    "Dates = []\n",
    "cols = ['Date', 'Long', 'Lat']\n",
    "bbox = [-124,33,-106,49]\n",
    "\n",
    "print('Processing training data regions into one dataframe')\n",
    "for region in tqdm(Region_list):   \n",
    "    #load the RegionTrain DF, select the key grid cell colums, and add to training DF.\n",
    "    RegionDF = pd.read_hdf(f\"{training_path}/RegionTrain_Final.h5\", region)\n",
    "    frames = [TrainDF, RegionDF[cols]]\n",
    "    TrainDF = pd.concat(frames)\n",
    "    \n",
    "#load dates\n",
    "Dates = pd.read_csv(f\"{training_path}/dates.csv\")\n",
    "Dates = list(Dates['Date'].values)\n",
    "\n",
    "#Make a DF for each date to augment SCA\n",
    "DateDict = {}\n",
    "print('Collecting dates within training data')\n",
    "for date in tqdm(Dates):\n",
    "    DateDict[date] = TrainDF[TrainDF['Date'] ==date]\n",
    "    #add variable columns\n",
    "    DateDict[date]['VIIRS_SCA'] =0.0\n",
    "    DateDict[date]['hasSnow'] = 'False'\n",
    "    "
   ]
  },
  {
   "cell_type": "markdown",
   "id": "ab136518",
   "metadata": {},
   "source": [
    "## Connect downloaded VIIRS fSCA daily products to lat/long/datetime of training dataframe\n",
    "\n",
    "Adapted from the NSM_SCA.py script"
   ]
  },
  {
   "cell_type": "code",
   "execution_count": 5,
   "id": "dfd15bbf",
   "metadata": {
    "scrolled": true
   },
   "outputs": [
    {
     "name": "stdout",
     "output_type": "stream",
     "text": [
      "Connecting the VIIRS SCA observations to lat/long/dates\n"
     ]
    },
    {
     "name": "stderr",
     "output_type": "stream",
     "text": [
      "\r",
      "  0%|          | 0/209 [00:00<?, ?it/s]"
     ]
    },
    {
     "name": "stdout",
     "output_type": "stream",
     "text": [
      "2013-01-08\n",
      "VIIRS version:  1\n"
     ]
    },
    {
     "name": "stderr",
     "output_type": "stream",
     "text": [
      "\r",
      "  0%|          | 1/209 [00:02<08:18,  2.40s/it]"
     ]
    },
    {
     "name": "stdout",
     "output_type": "stream",
     "text": [
      "2013-01-15\n",
      "VIIRS version:  1\n"
     ]
    },
    {
     "name": "stderr",
     "output_type": "stream",
     "text": [
      "\r",
      "  1%|          | 2/209 [00:06<11:08,  3.23s/it]"
     ]
    },
    {
     "name": "stdout",
     "output_type": "stream",
     "text": [
      "2013-01-22\n",
      "VIIRS version:  1\n"
     ]
    },
    {
     "name": "stderr",
     "output_type": "stream",
     "text": [
      "\r",
      "  1%|▏         | 3/209 [00:16<22:07,  6.45s/it]"
     ]
    },
    {
     "name": "stdout",
     "output_type": "stream",
     "text": [
      "2013-01-29\n",
      "VIIRS version:  1\n"
     ]
    },
    {
     "name": "stderr",
     "output_type": "stream",
     "text": [
      "\r",
      "  2%|▏         | 4/209 [00:21<19:59,  5.85s/it]"
     ]
    },
    {
     "name": "stdout",
     "output_type": "stream",
     "text": [
      "2013-02-05\n",
      "VIIRS version:  1\n"
     ]
    },
    {
     "name": "stderr",
     "output_type": "stream",
     "text": [
      "\r",
      "  2%|▏         | 5/209 [00:30<24:07,  7.10s/it]"
     ]
    },
    {
     "name": "stdout",
     "output_type": "stream",
     "text": [
      "2013-02-12\n",
      "VIIRS version:  1\n"
     ]
    },
    {
     "name": "stderr",
     "output_type": "stream",
     "text": [
      "\r",
      "  3%|▎         | 6/209 [00:35<21:18,  6.30s/it]"
     ]
    },
    {
     "name": "stdout",
     "output_type": "stream",
     "text": [
      "2013-02-19\n",
      "VIIRS version:  1\n"
     ]
    },
    {
     "name": "stderr",
     "output_type": "stream",
     "text": [
      "\r",
      "  3%|▎         | 7/209 [00:38<17:34,  5.22s/it]"
     ]
    },
    {
     "name": "stdout",
     "output_type": "stream",
     "text": [
      "2013-02-26\n",
      "VIIRS version:  1\n"
     ]
    },
    {
     "name": "stderr",
     "output_type": "stream",
     "text": [
      "\r",
      "  4%|▍         | 8/209 [00:45<19:56,  5.95s/it]"
     ]
    },
    {
     "name": "stdout",
     "output_type": "stream",
     "text": [
      "2013-03-05\n",
      "VIIRS version:  1\n"
     ]
    },
    {
     "name": "stderr",
     "output_type": "stream",
     "text": [
      "\r",
      "  4%|▍         | 9/209 [00:54<22:03,  6.62s/it]"
     ]
    },
    {
     "name": "stdout",
     "output_type": "stream",
     "text": [
      "2013-03-12\n",
      "VIIRS version:  1\n"
     ]
    },
    {
     "name": "stderr",
     "output_type": "stream",
     "text": [
      "\r",
      "  5%|▍         | 10/209 [01:00<21:55,  6.61s/it]"
     ]
    },
    {
     "name": "stdout",
     "output_type": "stream",
     "text": [
      "2013-03-19\n",
      "VIIRS version:  1\n"
     ]
    },
    {
     "name": "stderr",
     "output_type": "stream",
     "text": [
      "\r",
      "  5%|▌         | 11/209 [01:03<17:58,  5.45s/it]"
     ]
    },
    {
     "name": "stdout",
     "output_type": "stream",
     "text": [
      "2013-03-26\n",
      "VIIRS version:  1\n"
     ]
    },
    {
     "name": "stderr",
     "output_type": "stream",
     "text": [
      "\r",
      "  6%|▌         | 12/209 [01:11<20:52,  6.36s/it]"
     ]
    },
    {
     "name": "stdout",
     "output_type": "stream",
     "text": [
      "2013-04-02\n",
      "VIIRS version:  1\n"
     ]
    },
    {
     "name": "stderr",
     "output_type": "stream",
     "text": [
      "\r",
      "  6%|▌         | 13/209 [01:20<22:38,  6.93s/it]"
     ]
    },
    {
     "name": "stdout",
     "output_type": "stream",
     "text": [
      "2013-04-09\n",
      "VIIRS version:  1\n"
     ]
    },
    {
     "name": "stderr",
     "output_type": "stream",
     "text": [
      "\r",
      "  7%|▋         | 14/209 [01:22<18:01,  5.55s/it]"
     ]
    },
    {
     "name": "stdout",
     "output_type": "stream",
     "text": [
      "2013-04-16\n",
      "VIIRS version:  1\n"
     ]
    },
    {
     "name": "stderr",
     "output_type": "stream",
     "text": [
      "\r",
      "  7%|▋         | 15/209 [01:25<14:58,  4.63s/it]"
     ]
    },
    {
     "name": "stdout",
     "output_type": "stream",
     "text": [
      "2013-04-23\n",
      "VIIRS version:  1\n"
     ]
    },
    {
     "name": "stderr",
     "output_type": "stream",
     "text": [
      "\r",
      "  8%|▊         | 16/209 [01:32<17:53,  5.56s/it]"
     ]
    },
    {
     "name": "stdout",
     "output_type": "stream",
     "text": [
      "2013-04-30\n",
      "VIIRS version:  1\n"
     ]
    },
    {
     "name": "stderr",
     "output_type": "stream",
     "text": [
      "\r",
      "  8%|▊         | 17/209 [01:35<15:14,  4.76s/it]"
     ]
    },
    {
     "name": "stdout",
     "output_type": "stream",
     "text": [
      "2013-05-07\n",
      "VIIRS version:  1\n"
     ]
    },
    {
     "name": "stderr",
     "output_type": "stream",
     "text": [
      "\r",
      "  9%|▊         | 18/209 [01:38<13:35,  4.27s/it]"
     ]
    },
    {
     "name": "stdout",
     "output_type": "stream",
     "text": [
      "2013-05-14\n",
      "VIIRS version:  1\n"
     ]
    },
    {
     "name": "stderr",
     "output_type": "stream",
     "text": [
      "\r",
      "  9%|▉         | 19/209 [01:44<14:27,  4.56s/it]"
     ]
    },
    {
     "name": "stdout",
     "output_type": "stream",
     "text": [
      "2013-05-21\n",
      "VIIRS version:  1\n"
     ]
    },
    {
     "name": "stderr",
     "output_type": "stream",
     "text": [
      "\r",
      " 10%|▉         | 20/209 [01:46<12:41,  4.03s/it]"
     ]
    },
    {
     "name": "stdout",
     "output_type": "stream",
     "text": [
      "2013-05-28\n",
      "VIIRS version:  1\n"
     ]
    },
    {
     "name": "stderr",
     "output_type": "stream",
     "text": [
      "\r",
      " 10%|█         | 21/209 [01:57<19:20,  6.17s/it]"
     ]
    },
    {
     "name": "stdout",
     "output_type": "stream",
     "text": [
      "2013-06-01\n",
      "VIIRS version:  1\n"
     ]
    },
    {
     "name": "stderr",
     "output_type": "stream",
     "text": [
      "\r",
      " 11%|█         | 22/209 [02:18<32:36, 10.46s/it]"
     ]
    },
    {
     "name": "stdout",
     "output_type": "stream",
     "text": [
      "2013-06-04\n",
      "VIIRS version:  1\n"
     ]
    },
    {
     "name": "stderr",
     "output_type": "stream",
     "text": [
      "\r",
      " 11%|█         | 23/209 [02:27<31:15, 10.08s/it]"
     ]
    },
    {
     "name": "stdout",
     "output_type": "stream",
     "text": [
      "2013-06-08\n",
      "VIIRS version:  1\n"
     ]
    },
    {
     "name": "stderr",
     "output_type": "stream",
     "text": [
      "\r",
      " 11%|█▏        | 24/209 [02:30<24:38,  7.99s/it]"
     ]
    },
    {
     "name": "stdout",
     "output_type": "stream",
     "text": [
      "2013-06-11\n",
      "VIIRS version:  1\n"
     ]
    },
    {
     "name": "stderr",
     "output_type": "stream",
     "text": [
      "\r",
      " 12%|█▏        | 25/209 [02:40<25:46,  8.40s/it]"
     ]
    },
    {
     "name": "stdout",
     "output_type": "stream",
     "text": [
      "2013-06-18\n",
      "VIIRS version:  1\n"
     ]
    },
    {
     "name": "stderr",
     "output_type": "stream",
     "text": [
      "\r",
      " 12%|█▏        | 26/209 [02:46<23:57,  7.86s/it]"
     ]
    },
    {
     "name": "stdout",
     "output_type": "stream",
     "text": [
      "2013-06-25\n",
      "VIIRS version:  1\n"
     ]
    },
    {
     "name": "stderr",
     "output_type": "stream",
     "text": [
      "\r",
      " 13%|█▎        | 27/209 [02:52<21:42,  7.16s/it]"
     ]
    },
    {
     "name": "stdout",
     "output_type": "stream",
     "text": [
      "2013-12-10\n",
      "VIIRS version:  1\n"
     ]
    },
    {
     "name": "stderr",
     "output_type": "stream",
     "text": [
      "\r",
      " 13%|█▎        | 28/209 [02:55<17:55,  5.94s/it]"
     ]
    },
    {
     "name": "stdout",
     "output_type": "stream",
     "text": [
      "2013-12-17\n",
      "VIIRS version:  1\n"
     ]
    },
    {
     "name": "stderr",
     "output_type": "stream",
     "text": [
      "\r",
      " 14%|█▍        | 29/209 [02:59<15:51,  5.29s/it]"
     ]
    },
    {
     "name": "stdout",
     "output_type": "stream",
     "text": [
      "2013-12-24\n",
      "VIIRS version:  1\n"
     ]
    },
    {
     "name": "stderr",
     "output_type": "stream",
     "text": [
      "\r",
      " 14%|█▍        | 30/209 [03:09<20:46,  6.96s/it]"
     ]
    },
    {
     "name": "stdout",
     "output_type": "stream",
     "text": [
      "2013-12-31\n",
      "VIIRS version:  1\n"
     ]
    },
    {
     "name": "stderr",
     "output_type": "stream",
     "text": [
      "\r",
      " 15%|█▍        | 31/209 [03:22<25:29,  8.59s/it]"
     ]
    },
    {
     "name": "stdout",
     "output_type": "stream",
     "text": [
      "2014-01-07\n",
      "VIIRS version:  1\n"
     ]
    },
    {
     "name": "stderr",
     "output_type": "stream",
     "text": [
      "\r",
      " 15%|█▌        | 32/209 [03:26<21:08,  7.17s/it]"
     ]
    },
    {
     "name": "stdout",
     "output_type": "stream",
     "text": [
      "2014-01-14\n",
      "VIIRS version:  1\n"
     ]
    },
    {
     "name": "stderr",
     "output_type": "stream",
     "text": [
      "\r",
      " 16%|█▌        | 33/209 [03:30<18:51,  6.43s/it]"
     ]
    },
    {
     "name": "stdout",
     "output_type": "stream",
     "text": [
      "2014-01-21\n",
      "VIIRS version:  1\n"
     ]
    },
    {
     "name": "stderr",
     "output_type": "stream",
     "text": [
      "\r",
      " 16%|█▋        | 34/209 [03:43<23:46,  8.15s/it]"
     ]
    },
    {
     "name": "stdout",
     "output_type": "stream",
     "text": [
      "2014-01-28\n",
      "VIIRS version:  1\n"
     ]
    },
    {
     "name": "stderr",
     "output_type": "stream",
     "text": [
      "\r",
      " 17%|█▋        | 35/209 [03:53<25:53,  8.93s/it]"
     ]
    },
    {
     "name": "stdout",
     "output_type": "stream",
     "text": [
      "2014-02-04\n",
      "VIIRS version:  1\n"
     ]
    },
    {
     "name": "stderr",
     "output_type": "stream",
     "text": [
      "\r",
      " 17%|█▋        | 36/209 [04:01<24:42,  8.57s/it]"
     ]
    },
    {
     "name": "stdout",
     "output_type": "stream",
     "text": [
      "2014-02-11\n",
      "VIIRS version:  1\n"
     ]
    },
    {
     "name": "stderr",
     "output_type": "stream",
     "text": [
      "\r",
      " 18%|█▊        | 37/209 [04:07<22:35,  7.88s/it]"
     ]
    },
    {
     "name": "stdout",
     "output_type": "stream",
     "text": [
      "2014-02-18\n",
      "VIIRS version:  1\n"
     ]
    },
    {
     "name": "stderr",
     "output_type": "stream",
     "text": [
      "\r",
      " 18%|█▊        | 38/209 [04:11<18:40,  6.55s/it]"
     ]
    },
    {
     "name": "stdout",
     "output_type": "stream",
     "text": [
      "2014-02-25\n",
      "VIIRS version:  1\n"
     ]
    },
    {
     "name": "stderr",
     "output_type": "stream",
     "text": [
      "\r",
      " 19%|█▊        | 39/209 [04:16<17:28,  6.17s/it]"
     ]
    },
    {
     "name": "stdout",
     "output_type": "stream",
     "text": [
      "2014-03-04\n",
      "VIIRS version:  1\n"
     ]
    },
    {
     "name": "stderr",
     "output_type": "stream",
     "text": [
      "\r",
      " 19%|█▉        | 40/209 [04:24<18:30,  6.57s/it]"
     ]
    },
    {
     "name": "stdout",
     "output_type": "stream",
     "text": [
      "2014-03-11\n",
      "VIIRS version:  1\n"
     ]
    },
    {
     "name": "stderr",
     "output_type": "stream",
     "text": [
      "\r",
      " 20%|█▉        | 41/209 [04:29<17:03,  6.09s/it]"
     ]
    },
    {
     "name": "stdout",
     "output_type": "stream",
     "text": [
      "2014-03-18\n",
      "VIIRS version:  1\n"
     ]
    },
    {
     "name": "stderr",
     "output_type": "stream",
     "text": [
      "\r",
      " 20%|██        | 42/209 [04:33<15:51,  5.70s/it]"
     ]
    },
    {
     "name": "stdout",
     "output_type": "stream",
     "text": [
      "2014-03-25\n",
      "VIIRS version:  1\n"
     ]
    },
    {
     "name": "stderr",
     "output_type": "stream",
     "text": [
      "\r",
      " 21%|██        | 43/209 [04:36<13:17,  4.81s/it]"
     ]
    },
    {
     "name": "stdout",
     "output_type": "stream",
     "text": [
      "2014-04-01\n",
      "VIIRS version:  1\n"
     ]
    },
    {
     "name": "stderr",
     "output_type": "stream",
     "text": [
      "\r",
      " 21%|██        | 44/209 [04:40<12:30,  4.55s/it]"
     ]
    },
    {
     "name": "stdout",
     "output_type": "stream",
     "text": [
      "2014-04-08\n",
      "VIIRS version:  1\n"
     ]
    },
    {
     "name": "stderr",
     "output_type": "stream",
     "text": [
      "\r",
      " 22%|██▏       | 45/209 [05:00<25:19,  9.26s/it]"
     ]
    },
    {
     "name": "stdout",
     "output_type": "stream",
     "text": [
      "2014-04-15\n",
      "VIIRS version:  1\n"
     ]
    },
    {
     "name": "stderr",
     "output_type": "stream",
     "text": [
      "\r",
      " 22%|██▏       | 46/209 [05:04<20:23,  7.51s/it]"
     ]
    },
    {
     "name": "stdout",
     "output_type": "stream",
     "text": [
      "2014-04-22\n",
      "VIIRS version:  1\n"
     ]
    },
    {
     "name": "stderr",
     "output_type": "stream",
     "text": [
      "\r",
      " 22%|██▏       | 47/209 [05:07<16:46,  6.21s/it]"
     ]
    },
    {
     "name": "stdout",
     "output_type": "stream",
     "text": [
      "2014-04-29\n",
      "VIIRS version:  1\n"
     ]
    },
    {
     "name": "stderr",
     "output_type": "stream",
     "text": [
      "\r",
      " 23%|██▎       | 48/209 [05:10<13:57,  5.20s/it]"
     ]
    },
    {
     "name": "stdout",
     "output_type": "stream",
     "text": [
      "2014-05-06\n",
      "VIIRS version:  1\n"
     ]
    },
    {
     "name": "stderr",
     "output_type": "stream",
     "text": [
      "\r",
      " 23%|██▎       | 49/209 [05:14<13:07,  4.92s/it]"
     ]
    },
    {
     "name": "stdout",
     "output_type": "stream",
     "text": [
      "2014-05-13\n",
      "VIIRS version:  1\n"
     ]
    },
    {
     "name": "stderr",
     "output_type": "stream",
     "text": [
      "\r",
      " 24%|██▍       | 50/209 [05:27<19:07,  7.22s/it]"
     ]
    },
    {
     "name": "stdout",
     "output_type": "stream",
     "text": [
      "2014-05-20\n",
      "VIIRS version:  1\n"
     ]
    },
    {
     "name": "stderr",
     "output_type": "stream",
     "text": [
      "\r",
      " 24%|██▍       | 51/209 [05:35<19:50,  7.54s/it]"
     ]
    },
    {
     "name": "stdout",
     "output_type": "stream",
     "text": [
      "2014-05-27\n",
      "VIIRS version:  1\n"
     ]
    },
    {
     "name": "stderr",
     "output_type": "stream",
     "text": [
      "\r",
      " 25%|██▍       | 52/209 [05:42<19:38,  7.51s/it]"
     ]
    },
    {
     "name": "stdout",
     "output_type": "stream",
     "text": [
      "2014-06-03\n",
      "VIIRS version:  1\n"
     ]
    },
    {
     "name": "stderr",
     "output_type": "stream",
     "text": [
      "\r",
      " 25%|██▌       | 53/209 [05:46<16:39,  6.41s/it]"
     ]
    },
    {
     "name": "stdout",
     "output_type": "stream",
     "text": [
      "2014-06-10\n",
      "VIIRS version:  1\n"
     ]
    },
    {
     "name": "stderr",
     "output_type": "stream",
     "text": [
      "\r",
      " 26%|██▌       | 54/209 [05:51<15:07,  5.86s/it]"
     ]
    },
    {
     "name": "stdout",
     "output_type": "stream",
     "text": [
      "2014-06-17\n",
      "VIIRS version:  1\n"
     ]
    },
    {
     "name": "stderr",
     "output_type": "stream",
     "text": [
      "\r",
      " 26%|██▋       | 55/209 [06:03<19:39,  7.66s/it]"
     ]
    },
    {
     "name": "stdout",
     "output_type": "stream",
     "text": [
      "2014-06-24\n",
      "VIIRS version:  1\n"
     ]
    },
    {
     "name": "stderr",
     "output_type": "stream",
     "text": [
      "\r",
      " 27%|██▋       | 56/209 [06:07<17:27,  6.85s/it]"
     ]
    },
    {
     "name": "stdout",
     "output_type": "stream",
     "text": [
      "2014-12-09\n",
      "VIIRS version:  1\n"
     ]
    },
    {
     "name": "stderr",
     "output_type": "stream",
     "text": [
      "\r",
      " 27%|██▋       | 57/209 [06:11<15:07,  5.97s/it]"
     ]
    },
    {
     "name": "stdout",
     "output_type": "stream",
     "text": [
      "2014-12-16\n",
      "VIIRS version:  1\n"
     ]
    },
    {
     "name": "stderr",
     "output_type": "stream",
     "text": [
      "\r",
      " 28%|██▊       | 58/209 [06:16<13:49,  5.49s/it]"
     ]
    },
    {
     "name": "stdout",
     "output_type": "stream",
     "text": [
      "2014-12-23\n",
      "VIIRS version:  1\n"
     ]
    },
    {
     "name": "stderr",
     "output_type": "stream",
     "text": [
      "\r",
      " 28%|██▊       | 59/209 [06:19<12:18,  4.93s/it]"
     ]
    },
    {
     "name": "stdout",
     "output_type": "stream",
     "text": [
      "2014-12-30\n",
      "VIIRS version:  1\n"
     ]
    },
    {
     "name": "stderr",
     "output_type": "stream",
     "text": [
      "\r",
      " 29%|██▊       | 60/209 [06:23<11:34,  4.66s/it]"
     ]
    },
    {
     "name": "stdout",
     "output_type": "stream",
     "text": [
      "2015-01-06\n",
      "VIIRS version:  1\n"
     ]
    },
    {
     "name": "stderr",
     "output_type": "stream",
     "text": [
      "\r",
      " 29%|██▉       | 61/209 [06:26<10:14,  4.15s/it]"
     ]
    },
    {
     "name": "stdout",
     "output_type": "stream",
     "text": [
      "2015-01-13\n",
      "VIIRS version:  1\n"
     ]
    },
    {
     "name": "stderr",
     "output_type": "stream",
     "text": [
      "\r",
      " 30%|██▉       | 62/209 [06:29<09:24,  3.84s/it]"
     ]
    },
    {
     "name": "stdout",
     "output_type": "stream",
     "text": [
      "2015-01-20\n",
      "VIIRS version:  1\n"
     ]
    },
    {
     "name": "stderr",
     "output_type": "stream",
     "text": [
      "\r",
      " 30%|███       | 63/209 [06:32<08:42,  3.58s/it]"
     ]
    },
    {
     "name": "stdout",
     "output_type": "stream",
     "text": [
      "2015-01-27\n",
      "VIIRS version:  1\n"
     ]
    },
    {
     "name": "stderr",
     "output_type": "stream",
     "text": [
      "\r",
      " 31%|███       | 64/209 [06:40<11:52,  4.91s/it]"
     ]
    },
    {
     "name": "stdout",
     "output_type": "stream",
     "text": [
      "2015-02-03\n",
      "VIIRS version:  1\n"
     ]
    },
    {
     "name": "stderr",
     "output_type": "stream",
     "text": [
      "\r",
      " 31%|███       | 65/209 [06:45<11:44,  4.89s/it]"
     ]
    },
    {
     "name": "stdout",
     "output_type": "stream",
     "text": [
      "2015-02-10\n",
      "VIIRS version:  1\n"
     ]
    },
    {
     "name": "stderr",
     "output_type": "stream",
     "text": [
      "\r",
      " 32%|███▏      | 66/209 [06:51<12:01,  5.04s/it]"
     ]
    },
    {
     "name": "stdout",
     "output_type": "stream",
     "text": [
      "2015-02-17\n",
      "VIIRS version:  1\n"
     ]
    },
    {
     "name": "stderr",
     "output_type": "stream",
     "text": [
      "\r",
      " 32%|███▏      | 67/209 [06:56<11:50,  5.00s/it]"
     ]
    },
    {
     "name": "stdout",
     "output_type": "stream",
     "text": [
      "2015-02-24\n",
      "VIIRS version:  1\n"
     ]
    },
    {
     "name": "stderr",
     "output_type": "stream",
     "text": [
      "\r",
      " 33%|███▎      | 68/209 [07:08<17:14,  7.34s/it]"
     ]
    },
    {
     "name": "stdout",
     "output_type": "stream",
     "text": [
      "2015-03-03\n",
      "VIIRS version:  1\n"
     ]
    },
    {
     "name": "stderr",
     "output_type": "stream",
     "text": [
      "\r",
      " 33%|███▎      | 69/209 [07:19<19:11,  8.22s/it]"
     ]
    },
    {
     "name": "stdout",
     "output_type": "stream",
     "text": [
      "2015-03-10\n",
      "VIIRS version:  1\n"
     ]
    },
    {
     "name": "stderr",
     "output_type": "stream",
     "text": [
      "\r",
      " 33%|███▎      | 70/209 [07:33<23:33, 10.17s/it]"
     ]
    },
    {
     "name": "stdout",
     "output_type": "stream",
     "text": [
      "2015-03-17\n",
      "VIIRS version:  1\n"
     ]
    },
    {
     "name": "stderr",
     "output_type": "stream",
     "text": [
      "\r",
      " 34%|███▍      | 71/209 [07:37<19:00,  8.27s/it]"
     ]
    },
    {
     "name": "stdout",
     "output_type": "stream",
     "text": [
      "2015-03-24\n",
      "VIIRS version:  1\n"
     ]
    },
    {
     "name": "stderr",
     "output_type": "stream",
     "text": [
      "\r",
      " 34%|███▍      | 72/209 [07:41<15:36,  6.83s/it]"
     ]
    },
    {
     "name": "stdout",
     "output_type": "stream",
     "text": [
      "2015-03-31\n",
      "VIIRS version:  1\n"
     ]
    },
    {
     "name": "stderr",
     "output_type": "stream",
     "text": [
      "\r",
      " 35%|███▍      | 73/209 [07:54<19:45,  8.72s/it]"
     ]
    },
    {
     "name": "stdout",
     "output_type": "stream",
     "text": [
      "2015-04-07\n",
      "VIIRS version:  1\n"
     ]
    },
    {
     "name": "stderr",
     "output_type": "stream",
     "text": [
      "\r",
      " 35%|███▌      | 74/209 [07:58<16:43,  7.43s/it]"
     ]
    },
    {
     "name": "stdout",
     "output_type": "stream",
     "text": [
      "2015-04-14\n",
      "VIIRS version:  1\n"
     ]
    },
    {
     "name": "stderr",
     "output_type": "stream",
     "text": [
      "\r",
      " 36%|███▌      | 75/209 [08:08<18:27,  8.26s/it]"
     ]
    },
    {
     "name": "stdout",
     "output_type": "stream",
     "text": [
      "2015-04-21\n",
      "VIIRS version:  1\n"
     ]
    },
    {
     "name": "stderr",
     "output_type": "stream",
     "text": [
      "\r",
      " 36%|███▋      | 76/209 [08:15<17:21,  7.83s/it]"
     ]
    },
    {
     "name": "stdout",
     "output_type": "stream",
     "text": [
      "2015-04-28\n",
      "VIIRS version:  1\n"
     ]
    },
    {
     "name": "stderr",
     "output_type": "stream",
     "text": [
      "\r",
      " 37%|███▋      | 77/209 [08:20<14:52,  6.76s/it]"
     ]
    },
    {
     "name": "stdout",
     "output_type": "stream",
     "text": [
      "2015-05-05\n",
      "VIIRS version:  1\n"
     ]
    },
    {
     "name": "stderr",
     "output_type": "stream",
     "text": [
      "\r",
      " 37%|███▋      | 78/209 [08:25<13:54,  6.37s/it]"
     ]
    },
    {
     "name": "stdout",
     "output_type": "stream",
     "text": [
      "2015-05-12\n",
      "VIIRS version:  1\n"
     ]
    },
    {
     "name": "stderr",
     "output_type": "stream",
     "text": [
      "\r",
      " 38%|███▊      | 79/209 [08:29<12:25,  5.74s/it]"
     ]
    },
    {
     "name": "stdout",
     "output_type": "stream",
     "text": [
      "2015-05-19\n",
      "VIIRS version:  1\n"
     ]
    },
    {
     "name": "stderr",
     "output_type": "stream",
     "text": [
      "\r",
      " 38%|███▊      | 80/209 [08:32<10:26,  4.85s/it]"
     ]
    },
    {
     "name": "stdout",
     "output_type": "stream",
     "text": [
      "2015-05-26\n",
      "VIIRS version:  1\n"
     ]
    },
    {
     "name": "stderr",
     "output_type": "stream",
     "text": [
      "\r",
      " 39%|███▉      | 81/209 [08:37<10:16,  4.82s/it]"
     ]
    },
    {
     "name": "stdout",
     "output_type": "stream",
     "text": [
      "2015-06-02\n",
      "VIIRS version:  1\n"
     ]
    },
    {
     "name": "stderr",
     "output_type": "stream",
     "text": [
      "\r",
      " 39%|███▉      | 82/209 [08:40<09:19,  4.41s/it]"
     ]
    },
    {
     "name": "stdout",
     "output_type": "stream",
     "text": [
      "2015-06-09\n",
      "VIIRS version:  1\n"
     ]
    },
    {
     "name": "stderr",
     "output_type": "stream",
     "text": [
      "\r",
      " 40%|███▉      | 83/209 [08:45<09:23,  4.47s/it]"
     ]
    },
    {
     "name": "stdout",
     "output_type": "stream",
     "text": [
      "2015-06-16\n",
      "VIIRS version:  1\n"
     ]
    },
    {
     "name": "stderr",
     "output_type": "stream",
     "text": [
      "\r",
      " 40%|████      | 84/209 [08:49<08:59,  4.31s/it]"
     ]
    },
    {
     "name": "stdout",
     "output_type": "stream",
     "text": [
      "2015-06-23\n",
      "VIIRS version:  1\n"
     ]
    },
    {
     "name": "stderr",
     "output_type": "stream",
     "text": [
      "\r",
      " 41%|████      | 85/209 [08:54<09:21,  4.52s/it]"
     ]
    },
    {
     "name": "stdout",
     "output_type": "stream",
     "text": [
      "2015-06-30\n",
      "VIIRS version:  1\n"
     ]
    },
    {
     "name": "stderr",
     "output_type": "stream",
     "text": [
      "\r",
      " 41%|████      | 86/209 [08:58<09:10,  4.47s/it]"
     ]
    },
    {
     "name": "stdout",
     "output_type": "stream",
     "text": [
      "2015-12-08\n",
      "VIIRS version:  1\n"
     ]
    },
    {
     "name": "stderr",
     "output_type": "stream",
     "text": [
      "\r",
      " 42%|████▏     | 87/209 [09:01<08:17,  4.08s/it]"
     ]
    },
    {
     "name": "stdout",
     "output_type": "stream",
     "text": [
      "2015-12-15\n",
      "VIIRS version:  1\n"
     ]
    },
    {
     "name": "stderr",
     "output_type": "stream",
     "text": [
      "\r",
      " 42%|████▏     | 88/209 [09:10<11:00,  5.46s/it]"
     ]
    },
    {
     "name": "stdout",
     "output_type": "stream",
     "text": [
      "2015-12-22\n",
      "VIIRS version:  1\n"
     ]
    },
    {
     "name": "stderr",
     "output_type": "stream",
     "text": [
      "\r",
      " 43%|████▎     | 89/209 [09:13<09:11,  4.59s/it]"
     ]
    },
    {
     "name": "stdout",
     "output_type": "stream",
     "text": [
      "2015-12-29\n",
      "VIIRS version:  1\n"
     ]
    },
    {
     "name": "stderr",
     "output_type": "stream",
     "text": [
      "\r",
      " 43%|████▎     | 90/209 [09:17<08:52,  4.47s/it]"
     ]
    },
    {
     "name": "stdout",
     "output_type": "stream",
     "text": [
      "2016-01-05\n",
      "VIIRS version:  1\n"
     ]
    },
    {
     "name": "stderr",
     "output_type": "stream",
     "text": [
      "\r",
      " 44%|████▎     | 91/209 [09:21<08:21,  4.25s/it]"
     ]
    },
    {
     "name": "stdout",
     "output_type": "stream",
     "text": [
      "2016-01-12\n",
      "VIIRS version:  1\n"
     ]
    },
    {
     "name": "stderr",
     "output_type": "stream",
     "text": [
      "\r",
      " 44%|████▍     | 92/209 [09:25<08:13,  4.22s/it]"
     ]
    },
    {
     "name": "stdout",
     "output_type": "stream",
     "text": [
      "2016-01-19\n",
      "VIIRS version:  1\n"
     ]
    },
    {
     "name": "stderr",
     "output_type": "stream",
     "text": [
      "\r",
      " 44%|████▍     | 93/209 [09:35<11:50,  6.13s/it]"
     ]
    },
    {
     "name": "stdout",
     "output_type": "stream",
     "text": [
      "2016-01-26\n",
      "VIIRS version:  1\n"
     ]
    },
    {
     "name": "stderr",
     "output_type": "stream",
     "text": [
      "\r",
      " 45%|████▍     | 94/209 [09:38<09:49,  5.13s/it]"
     ]
    },
    {
     "name": "stdout",
     "output_type": "stream",
     "text": [
      "2016-02-02\n",
      "VIIRS version:  1\n"
     ]
    },
    {
     "name": "stderr",
     "output_type": "stream",
     "text": [
      "\r",
      " 45%|████▌     | 95/209 [09:41<08:16,  4.35s/it]"
     ]
    },
    {
     "name": "stdout",
     "output_type": "stream",
     "text": [
      "2016-02-09\n",
      "VIIRS version:  1\n"
     ]
    },
    {
     "name": "stderr",
     "output_type": "stream",
     "text": [
      "\r",
      " 46%|████▌     | 96/209 [09:43<07:15,  3.85s/it]"
     ]
    },
    {
     "name": "stdout",
     "output_type": "stream",
     "text": [
      "2016-02-16\n",
      "VIIRS version:  1\n"
     ]
    },
    {
     "name": "stderr",
     "output_type": "stream",
     "text": [
      "\r",
      " 46%|████▋     | 97/209 [09:46<06:49,  3.66s/it]"
     ]
    },
    {
     "name": "stdout",
     "output_type": "stream",
     "text": [
      "2016-02-23\n",
      "VIIRS version:  1\n"
     ]
    },
    {
     "name": "stderr",
     "output_type": "stream",
     "text": [
      "\r",
      " 47%|████▋     | 98/209 [09:58<10:57,  5.92s/it]"
     ]
    },
    {
     "name": "stdout",
     "output_type": "stream",
     "text": [
      "2016-03-01\n",
      "VIIRS version:  1\n"
     ]
    },
    {
     "name": "stderr",
     "output_type": "stream",
     "text": [
      "\r",
      " 47%|████▋     | 99/209 [10:01<09:20,  5.09s/it]"
     ]
    },
    {
     "name": "stdout",
     "output_type": "stream",
     "text": [
      "2016-03-08\n",
      "VIIRS version:  1\n"
     ]
    },
    {
     "name": "stderr",
     "output_type": "stream",
     "text": [
      "\r",
      " 48%|████▊     | 100/209 [10:06<09:16,  5.10s/it]"
     ]
    },
    {
     "name": "stdout",
     "output_type": "stream",
     "text": [
      "2016-03-15\n",
      "VIIRS version:  1\n"
     ]
    },
    {
     "name": "stderr",
     "output_type": "stream",
     "text": [
      "\r",
      " 48%|████▊     | 101/209 [10:09<08:00,  4.45s/it]"
     ]
    },
    {
     "name": "stdout",
     "output_type": "stream",
     "text": [
      "2016-03-22\n",
      "VIIRS version:  1\n"
     ]
    },
    {
     "name": "stderr",
     "output_type": "stream",
     "text": [
      "\r",
      " 49%|████▉     | 102/209 [10:23<12:49,  7.19s/it]"
     ]
    },
    {
     "name": "stdout",
     "output_type": "stream",
     "text": [
      "2016-03-29\n",
      "VIIRS version:  1\n"
     ]
    },
    {
     "name": "stderr",
     "output_type": "stream",
     "text": [
      "\r",
      " 49%|████▉     | 103/209 [10:27<11:21,  6.43s/it]"
     ]
    },
    {
     "name": "stdout",
     "output_type": "stream",
     "text": [
      "2016-04-05\n",
      "VIIRS version:  1\n"
     ]
    },
    {
     "name": "stderr",
     "output_type": "stream",
     "text": [
      "\r",
      " 50%|████▉     | 104/209 [10:32<10:09,  5.80s/it]"
     ]
    },
    {
     "name": "stdout",
     "output_type": "stream",
     "text": [
      "2016-04-12\n",
      "VIIRS version:  1\n"
     ]
    },
    {
     "name": "stderr",
     "output_type": "stream",
     "text": [
      "\r",
      " 50%|█████     | 105/209 [10:35<08:53,  5.13s/it]"
     ]
    },
    {
     "name": "stdout",
     "output_type": "stream",
     "text": [
      "2016-04-19\n",
      "VIIRS version:  1\n"
     ]
    },
    {
     "name": "stderr",
     "output_type": "stream",
     "text": [
      "\r",
      " 51%|█████     | 106/209 [10:38<07:38,  4.46s/it]"
     ]
    },
    {
     "name": "stdout",
     "output_type": "stream",
     "text": [
      "2016-04-26\n",
      "VIIRS version:  1\n"
     ]
    },
    {
     "name": "stderr",
     "output_type": "stream",
     "text": [
      "\r",
      " 51%|█████     | 107/209 [10:43<08:08,  4.79s/it]"
     ]
    },
    {
     "name": "stdout",
     "output_type": "stream",
     "text": [
      "2016-05-03\n",
      "VIIRS version:  1\n"
     ]
    },
    {
     "name": "stderr",
     "output_type": "stream",
     "text": [
      "\r",
      " 52%|█████▏    | 108/209 [10:47<07:10,  4.26s/it]"
     ]
    },
    {
     "name": "stdout",
     "output_type": "stream",
     "text": [
      "2016-05-10\n",
      "VIIRS version:  1\n"
     ]
    },
    {
     "name": "stderr",
     "output_type": "stream",
     "text": [
      "\r",
      " 52%|█████▏    | 109/209 [10:51<07:23,  4.43s/it]"
     ]
    },
    {
     "name": "stdout",
     "output_type": "stream",
     "text": [
      "2016-05-17\n",
      "VIIRS version:  1\n"
     ]
    },
    {
     "name": "stderr",
     "output_type": "stream",
     "text": [
      "\r",
      " 53%|█████▎    | 110/209 [10:54<06:35,  3.99s/it]"
     ]
    },
    {
     "name": "stdout",
     "output_type": "stream",
     "text": [
      "2016-05-24\n",
      "VIIRS version:  1\n"
     ]
    },
    {
     "name": "stderr",
     "output_type": "stream",
     "text": [
      "\r",
      " 53%|█████▎    | 111/209 [10:57<05:47,  3.55s/it]"
     ]
    },
    {
     "name": "stdout",
     "output_type": "stream",
     "text": [
      "2016-05-31\n",
      "VIIRS version:  1\n"
     ]
    },
    {
     "name": "stderr",
     "output_type": "stream",
     "text": [
      "\r",
      " 54%|█████▎    | 112/209 [11:00<05:33,  3.43s/it]"
     ]
    },
    {
     "name": "stdout",
     "output_type": "stream",
     "text": [
      "2016-06-07\n",
      "VIIRS version:  1\n"
     ]
    },
    {
     "name": "stderr",
     "output_type": "stream",
     "text": [
      "\r",
      " 54%|█████▍    | 113/209 [11:15<11:10,  6.98s/it]"
     ]
    },
    {
     "name": "stdout",
     "output_type": "stream",
     "text": [
      "2016-06-14\n",
      "VIIRS version:  1\n"
     ]
    },
    {
     "name": "stderr",
     "output_type": "stream",
     "text": [
      "\r",
      " 55%|█████▍    | 114/209 [11:19<09:27,  5.97s/it]"
     ]
    },
    {
     "name": "stdout",
     "output_type": "stream",
     "text": [
      "2016-06-21\n",
      "VIIRS version:  1\n"
     ]
    },
    {
     "name": "stderr",
     "output_type": "stream",
     "text": [
      "\r",
      " 55%|█████▌    | 115/209 [11:25<09:25,  6.02s/it]"
     ]
    },
    {
     "name": "stdout",
     "output_type": "stream",
     "text": [
      "2016-06-28\n",
      "VIIRS version:  1\n"
     ]
    },
    {
     "name": "stderr",
     "output_type": "stream",
     "text": [
      "\r",
      " 56%|█████▌    | 116/209 [11:28<08:06,  5.23s/it]"
     ]
    },
    {
     "name": "stdout",
     "output_type": "stream",
     "text": [
      "2016-12-13\n",
      "VIIRS version:  1\n"
     ]
    },
    {
     "name": "stderr",
     "output_type": "stream",
     "text": [
      "\r",
      " 56%|█████▌    | 117/209 [11:33<07:35,  4.95s/it]"
     ]
    },
    {
     "name": "stdout",
     "output_type": "stream",
     "text": [
      "2016-12-20\n",
      "VIIRS version:  1\n"
     ]
    },
    {
     "name": "stderr",
     "output_type": "stream",
     "text": [
      "\r",
      " 56%|█████▋    | 118/209 [11:36<06:38,  4.38s/it]"
     ]
    },
    {
     "name": "stdout",
     "output_type": "stream",
     "text": [
      "2016-12-27\n",
      "VIIRS version:  1\n"
     ]
    },
    {
     "name": "stderr",
     "output_type": "stream",
     "text": [
      "\r",
      " 57%|█████▋    | 119/209 [11:39<05:52,  3.91s/it]"
     ]
    },
    {
     "name": "stdout",
     "output_type": "stream",
     "text": [
      "2017-01-03\n",
      "VIIRS version:  1\n"
     ]
    },
    {
     "name": "stderr",
     "output_type": "stream",
     "text": [
      "\r",
      " 57%|█████▋    | 120/209 [11:43<06:00,  4.05s/it]"
     ]
    },
    {
     "name": "stdout",
     "output_type": "stream",
     "text": [
      "2017-01-10\n",
      "VIIRS version:  1\n"
     ]
    },
    {
     "name": "stderr",
     "output_type": "stream",
     "text": [
      "\r",
      " 58%|█████▊    | 121/209 [11:50<07:19,  4.99s/it]"
     ]
    },
    {
     "name": "stdout",
     "output_type": "stream",
     "text": [
      "2017-01-17\n",
      "VIIRS version:  1\n"
     ]
    },
    {
     "name": "stderr",
     "output_type": "stream",
     "text": [
      "\r",
      " 58%|█████▊    | 122/209 [11:53<06:31,  4.50s/it]"
     ]
    },
    {
     "name": "stdout",
     "output_type": "stream",
     "text": [
      "2017-01-24\n",
      "VIIRS version:  1\n"
     ]
    },
    {
     "name": "stderr",
     "output_type": "stream",
     "text": [
      "\r",
      " 59%|█████▉    | 123/209 [12:09<11:03,  7.72s/it]"
     ]
    },
    {
     "name": "stdout",
     "output_type": "stream",
     "text": [
      "2017-01-31\n",
      "VIIRS version:  1\n"
     ]
    },
    {
     "name": "stderr",
     "output_type": "stream",
     "text": [
      "\r",
      " 59%|█████▉    | 124/209 [12:12<08:51,  6.25s/it]"
     ]
    },
    {
     "name": "stdout",
     "output_type": "stream",
     "text": [
      "2017-02-07\n",
      "VIIRS version:  1\n"
     ]
    },
    {
     "name": "stderr",
     "output_type": "stream",
     "text": [
      "\r",
      " 60%|█████▉    | 125/209 [12:15<07:41,  5.49s/it]"
     ]
    },
    {
     "name": "stdout",
     "output_type": "stream",
     "text": [
      "2017-02-14\n",
      "VIIRS version:  1\n"
     ]
    },
    {
     "name": "stderr",
     "output_type": "stream",
     "text": [
      "\r",
      " 60%|██████    | 126/209 [12:24<08:45,  6.33s/it]"
     ]
    },
    {
     "name": "stdout",
     "output_type": "stream",
     "text": [
      "2017-02-21\n",
      "VIIRS version:  1\n"
     ]
    },
    {
     "name": "stderr",
     "output_type": "stream",
     "text": [
      "\r",
      " 61%|██████    | 127/209 [12:29<08:20,  6.11s/it]"
     ]
    },
    {
     "name": "stdout",
     "output_type": "stream",
     "text": [
      "2017-02-28\n",
      "VIIRS version:  1\n"
     ]
    },
    {
     "name": "stderr",
     "output_type": "stream",
     "text": [
      "\r",
      " 61%|██████    | 128/209 [12:34<07:38,  5.66s/it]"
     ]
    },
    {
     "name": "stdout",
     "output_type": "stream",
     "text": [
      "2017-03-07\n",
      "VIIRS version:  1\n"
     ]
    },
    {
     "name": "stderr",
     "output_type": "stream",
     "text": [
      "\r",
      " 62%|██████▏   | 129/209 [12:38<06:51,  5.14s/it]"
     ]
    },
    {
     "name": "stdout",
     "output_type": "stream",
     "text": [
      "2017-03-14\n",
      "VIIRS version:  1\n"
     ]
    },
    {
     "name": "stderr",
     "output_type": "stream",
     "text": [
      "\r",
      " 62%|██████▏   | 130/209 [12:40<05:50,  4.44s/it]"
     ]
    },
    {
     "name": "stdout",
     "output_type": "stream",
     "text": [
      "2017-03-21\n",
      "VIIRS version:  1\n"
     ]
    },
    {
     "name": "stderr",
     "output_type": "stream",
     "text": [
      "\r",
      " 63%|██████▎   | 131/209 [12:45<05:55,  4.56s/it]"
     ]
    },
    {
     "name": "stdout",
     "output_type": "stream",
     "text": [
      "2017-03-28\n",
      "VIIRS version:  1\n"
     ]
    },
    {
     "name": "stderr",
     "output_type": "stream",
     "text": [
      "\r",
      " 63%|██████▎   | 132/209 [12:50<05:50,  4.56s/it]"
     ]
    },
    {
     "name": "stdout",
     "output_type": "stream",
     "text": [
      "2017-04-04\n",
      "VIIRS version:  1\n"
     ]
    },
    {
     "name": "stderr",
     "output_type": "stream",
     "text": [
      "\r",
      " 64%|██████▎   | 133/209 [12:54<05:36,  4.43s/it]"
     ]
    },
    {
     "name": "stdout",
     "output_type": "stream",
     "text": [
      "2017-04-11\n",
      "VIIRS version:  1\n"
     ]
    },
    {
     "name": "stderr",
     "output_type": "stream",
     "text": [
      "\r",
      " 64%|██████▍   | 134/209 [12:57<05:06,  4.09s/it]"
     ]
    },
    {
     "name": "stdout",
     "output_type": "stream",
     "text": [
      "2017-04-18\n",
      "VIIRS version:  1\n"
     ]
    },
    {
     "name": "stderr",
     "output_type": "stream",
     "text": [
      "\r",
      " 65%|██████▍   | 135/209 [13:05<06:21,  5.16s/it]"
     ]
    },
    {
     "name": "stdout",
     "output_type": "stream",
     "text": [
      "2017-04-25\n",
      "VIIRS version:  1\n"
     ]
    },
    {
     "name": "stderr",
     "output_type": "stream",
     "text": [
      "\r",
      " 65%|██████▌   | 136/209 [13:08<05:26,  4.47s/it]"
     ]
    },
    {
     "name": "stdout",
     "output_type": "stream",
     "text": [
      "2017-05-02\n",
      "VIIRS version:  1\n"
     ]
    },
    {
     "name": "stderr",
     "output_type": "stream",
     "text": [
      "\r",
      " 66%|██████▌   | 137/209 [13:14<05:48,  4.84s/it]"
     ]
    },
    {
     "name": "stdout",
     "output_type": "stream",
     "text": [
      "2017-05-09\n",
      "VIIRS version:  1\n"
     ]
    },
    {
     "name": "stderr",
     "output_type": "stream",
     "text": [
      "\r",
      " 66%|██████▌   | 138/209 [13:35<11:27,  9.69s/it]"
     ]
    },
    {
     "name": "stdout",
     "output_type": "stream",
     "text": [
      "2017-05-16\n",
      "VIIRS version:  1\n"
     ]
    },
    {
     "name": "stderr",
     "output_type": "stream",
     "text": [
      "\r",
      " 67%|██████▋   | 139/209 [13:39<09:35,  8.22s/it]"
     ]
    },
    {
     "name": "stdout",
     "output_type": "stream",
     "text": [
      "2017-05-23\n",
      "VIIRS version:  1\n"
     ]
    },
    {
     "name": "stderr",
     "output_type": "stream",
     "text": [
      "\r",
      " 67%|██████▋   | 140/209 [13:44<08:10,  7.10s/it]"
     ]
    },
    {
     "name": "stdout",
     "output_type": "stream",
     "text": [
      "2017-05-30\n",
      "VIIRS version:  1\n"
     ]
    },
    {
     "name": "stderr",
     "output_type": "stream",
     "text": [
      "\r",
      " 67%|██████▋   | 141/209 [13:48<06:57,  6.13s/it]"
     ]
    },
    {
     "name": "stdout",
     "output_type": "stream",
     "text": [
      "2017-06-06\n",
      "VIIRS version:  1\n"
     ]
    },
    {
     "name": "stderr",
     "output_type": "stream",
     "text": [
      "\r",
      " 68%|██████▊   | 142/209 [13:55<07:18,  6.55s/it]"
     ]
    },
    {
     "name": "stdout",
     "output_type": "stream",
     "text": [
      "2017-06-13\n",
      "VIIRS version:  1\n"
     ]
    },
    {
     "name": "stderr",
     "output_type": "stream",
     "text": [
      "\r",
      " 68%|██████▊   | 143/209 [14:00<06:36,  6.00s/it]"
     ]
    },
    {
     "name": "stdout",
     "output_type": "stream",
     "text": [
      "2017-06-20\n",
      "VIIRS version:  1\n"
     ]
    },
    {
     "name": "stderr",
     "output_type": "stream",
     "text": [
      "\r",
      " 69%|██████▉   | 144/209 [14:03<05:24,  4.99s/it]"
     ]
    },
    {
     "name": "stdout",
     "output_type": "stream",
     "text": [
      "2017-06-27\n",
      "VIIRS version:  1\n"
     ]
    },
    {
     "name": "stderr",
     "output_type": "stream",
     "text": [
      "\r",
      " 69%|██████▉   | 145/209 [14:11<06:19,  5.93s/it]"
     ]
    },
    {
     "name": "stdout",
     "output_type": "stream",
     "text": [
      "2017-12-12\n",
      "VIIRS version:  1\n"
     ]
    },
    {
     "name": "stderr",
     "output_type": "stream",
     "text": [
      "\r",
      " 70%|██████▉   | 146/209 [14:14<05:26,  5.19s/it]"
     ]
    },
    {
     "name": "stdout",
     "output_type": "stream",
     "text": [
      "2017-12-19\n",
      "VIIRS version:  1\n"
     ]
    },
    {
     "name": "stderr",
     "output_type": "stream",
     "text": [
      "\r",
      " 70%|███████   | 147/209 [14:19<05:08,  4.98s/it]"
     ]
    },
    {
     "name": "stdout",
     "output_type": "stream",
     "text": [
      "2017-12-26\n",
      "VIIRS version:  1\n"
     ]
    },
    {
     "name": "stderr",
     "output_type": "stream",
     "text": [
      "\r",
      " 71%|███████   | 148/209 [14:23<04:50,  4.76s/it]"
     ]
    },
    {
     "name": "stdout",
     "output_type": "stream",
     "text": [
      "2018-01-02\n",
      "VIIRS version:  2\n"
     ]
    },
    {
     "name": "stderr",
     "output_type": "stream",
     "text": [
      "\r",
      " 71%|███████▏  | 149/209 [14:26<04:15,  4.27s/it]"
     ]
    },
    {
     "name": "stdout",
     "output_type": "stream",
     "text": [
      "2018-01-09\n",
      "VIIRS version:  2\n"
     ]
    },
    {
     "name": "stderr",
     "output_type": "stream",
     "text": [
      "\r",
      " 72%|███████▏  | 150/209 [14:28<03:38,  3.70s/it]"
     ]
    },
    {
     "name": "stdout",
     "output_type": "stream",
     "text": [
      "2018-01-16\n",
      "VIIRS version:  2\n"
     ]
    },
    {
     "name": "stderr",
     "output_type": "stream",
     "text": [
      "\r",
      " 72%|███████▏  | 151/209 [14:37<04:56,  5.11s/it]"
     ]
    },
    {
     "name": "stdout",
     "output_type": "stream",
     "text": [
      "2018-01-23\n",
      "VIIRS version:  2\n"
     ]
    },
    {
     "name": "stderr",
     "output_type": "stream",
     "text": [
      "\r",
      " 73%|███████▎  | 152/209 [14:41<04:44,  5.00s/it]"
     ]
    },
    {
     "name": "stdout",
     "output_type": "stream",
     "text": [
      "2018-01-30\n",
      "VIIRS version:  2\n"
     ]
    },
    {
     "name": "stderr",
     "output_type": "stream",
     "text": [
      "\r",
      " 73%|███████▎  | 153/209 [14:48<05:08,  5.50s/it]"
     ]
    },
    {
     "name": "stdout",
     "output_type": "stream",
     "text": [
      "2018-02-06\n",
      "VIIRS version:  2\n"
     ]
    },
    {
     "name": "stderr",
     "output_type": "stream",
     "text": [
      "\r",
      " 74%|███████▎  | 154/209 [14:51<04:10,  4.56s/it]"
     ]
    },
    {
     "name": "stdout",
     "output_type": "stream",
     "text": [
      "2018-02-13\n",
      "VIIRS version:  2\n"
     ]
    },
    {
     "name": "stderr",
     "output_type": "stream",
     "text": [
      "\r",
      " 74%|███████▍  | 155/209 [14:56<04:27,  4.96s/it]"
     ]
    },
    {
     "name": "stdout",
     "output_type": "stream",
     "text": [
      "2018-02-20\n",
      "VIIRS version:  2\n"
     ]
    },
    {
     "name": "stderr",
     "output_type": "stream",
     "text": [
      "\r",
      " 75%|███████▍  | 156/209 [15:04<05:05,  5.76s/it]"
     ]
    },
    {
     "name": "stdout",
     "output_type": "stream",
     "text": [
      "2018-02-27\n",
      "VIIRS version:  2\n"
     ]
    },
    {
     "name": "stderr",
     "output_type": "stream",
     "text": [
      "\r",
      " 75%|███████▌  | 157/209 [15:11<05:16,  6.10s/it]"
     ]
    },
    {
     "name": "stdout",
     "output_type": "stream",
     "text": [
      "2018-03-06\n",
      "VIIRS version:  2\n"
     ]
    },
    {
     "name": "stderr",
     "output_type": "stream",
     "text": [
      "\r",
      " 76%|███████▌  | 158/209 [15:17<05:03,  5.95s/it]"
     ]
    },
    {
     "name": "stdout",
     "output_type": "stream",
     "text": [
      "2018-03-13\n",
      "VIIRS version:  2\n"
     ]
    },
    {
     "name": "stderr",
     "output_type": "stream",
     "text": [
      "\r",
      " 76%|███████▌  | 159/209 [15:20<04:17,  5.14s/it]"
     ]
    },
    {
     "name": "stdout",
     "output_type": "stream",
     "text": [
      "2018-03-20\n",
      "VIIRS version:  2\n"
     ]
    },
    {
     "name": "stderr",
     "output_type": "stream",
     "text": [
      "\r",
      " 77%|███████▋  | 160/209 [15:22<03:28,  4.26s/it]"
     ]
    },
    {
     "name": "stdout",
     "output_type": "stream",
     "text": [
      "2018-03-27\n",
      "VIIRS version:  2\n"
     ]
    },
    {
     "name": "stderr",
     "output_type": "stream",
     "text": [
      "\r",
      " 77%|███████▋  | 161/209 [15:25<03:05,  3.87s/it]"
     ]
    },
    {
     "name": "stdout",
     "output_type": "stream",
     "text": [
      "2018-04-03\n",
      "VIIRS version:  2\n"
     ]
    },
    {
     "name": "stderr",
     "output_type": "stream",
     "text": [
      "\r",
      " 78%|███████▊  | 162/209 [15:27<02:39,  3.39s/it]"
     ]
    },
    {
     "name": "stdout",
     "output_type": "stream",
     "text": [
      "2018-04-10\n",
      "VIIRS version:  2\n"
     ]
    },
    {
     "name": "stderr",
     "output_type": "stream",
     "text": [
      "\r",
      " 78%|███████▊  | 163/209 [15:31<02:39,  3.46s/it]"
     ]
    },
    {
     "name": "stdout",
     "output_type": "stream",
     "text": [
      "2018-04-17\n",
      "VIIRS version:  2\n"
     ]
    },
    {
     "name": "stderr",
     "output_type": "stream",
     "text": [
      "\r",
      " 78%|███████▊  | 164/209 [15:48<05:40,  7.57s/it]"
     ]
    },
    {
     "name": "stdout",
     "output_type": "stream",
     "text": [
      "2018-04-24\n",
      "VIIRS version:  2\n"
     ]
    },
    {
     "name": "stderr",
     "output_type": "stream",
     "text": [
      "\r",
      " 79%|███████▉  | 165/209 [16:07<08:09, 11.11s/it]"
     ]
    },
    {
     "name": "stdout",
     "output_type": "stream",
     "text": [
      "2018-05-01\n",
      "VIIRS version:  2\n"
     ]
    },
    {
     "name": "stderr",
     "output_type": "stream",
     "text": [
      "\r",
      " 79%|███████▉  | 166/209 [16:10<06:10,  8.63s/it]"
     ]
    },
    {
     "name": "stdout",
     "output_type": "stream",
     "text": [
      "2018-05-08\n",
      "VIIRS version:  2\n"
     ]
    },
    {
     "name": "stderr",
     "output_type": "stream",
     "text": [
      "\r",
      " 80%|███████▉  | 167/209 [16:13<04:51,  6.94s/it]"
     ]
    },
    {
     "name": "stdout",
     "output_type": "stream",
     "text": [
      "2018-05-15\n",
      "VIIRS version:  2\n"
     ]
    },
    {
     "name": "stderr",
     "output_type": "stream",
     "text": [
      "\r",
      " 80%|████████  | 168/209 [16:18<04:17,  6.29s/it]"
     ]
    },
    {
     "name": "stdout",
     "output_type": "stream",
     "text": [
      "2018-05-22\n",
      "VIIRS version:  2\n"
     ]
    },
    {
     "name": "stderr",
     "output_type": "stream",
     "text": [
      "\r",
      " 81%|████████  | 169/209 [16:23<03:55,  5.88s/it]"
     ]
    },
    {
     "name": "stdout",
     "output_type": "stream",
     "text": [
      "2018-05-29\n",
      "VIIRS version:  2\n"
     ]
    },
    {
     "name": "stderr",
     "output_type": "stream",
     "text": [
      "\r",
      " 81%|████████▏ | 170/209 [16:29<03:47,  5.83s/it]"
     ]
    },
    {
     "name": "stdout",
     "output_type": "stream",
     "text": [
      "2018-06-05\n",
      "VIIRS version:  2\n"
     ]
    },
    {
     "name": "stderr",
     "output_type": "stream",
     "text": [
      "\r",
      " 82%|████████▏ | 171/209 [16:32<03:09,  5.00s/it]"
     ]
    },
    {
     "name": "stdout",
     "output_type": "stream",
     "text": [
      "2018-06-12\n",
      "VIIRS version:  2\n"
     ]
    },
    {
     "name": "stderr",
     "output_type": "stream",
     "text": [
      "\r",
      " 82%|████████▏ | 172/209 [16:39<03:29,  5.67s/it]"
     ]
    },
    {
     "name": "stdout",
     "output_type": "stream",
     "text": [
      "2018-06-19\n",
      "VIIRS version:  2\n"
     ]
    },
    {
     "name": "stderr",
     "output_type": "stream",
     "text": [
      "\r",
      " 83%|████████▎ | 173/209 [16:44<03:14,  5.40s/it]"
     ]
    },
    {
     "name": "stdout",
     "output_type": "stream",
     "text": [
      "2018-06-26\n",
      "VIIRS version:  2\n"
     ]
    },
    {
     "name": "stderr",
     "output_type": "stream",
     "text": [
      "\r",
      " 83%|████████▎ | 174/209 [16:46<02:40,  4.58s/it]"
     ]
    },
    {
     "name": "stdout",
     "output_type": "stream",
     "text": [
      "2018-12-11\n",
      "VIIRS version:  2\n"
     ]
    },
    {
     "name": "stderr",
     "output_type": "stream",
     "text": [
      "\r",
      " 84%|████████▎ | 175/209 [16:53<02:58,  5.25s/it]"
     ]
    },
    {
     "name": "stdout",
     "output_type": "stream",
     "text": [
      "2018-12-18\n",
      "VIIRS version:  2\n"
     ]
    },
    {
     "name": "stderr",
     "output_type": "stream",
     "text": [
      "\r",
      " 84%|████████▍ | 176/209 [16:57<02:37,  4.77s/it]"
     ]
    },
    {
     "name": "stdout",
     "output_type": "stream",
     "text": [
      "2018-12-25\n",
      "VIIRS version:  2\n"
     ]
    },
    {
     "name": "stderr",
     "output_type": "stream",
     "text": [
      "\r",
      " 85%|████████▍ | 177/209 [17:02<02:34,  4.83s/it]"
     ]
    },
    {
     "name": "stdout",
     "output_type": "stream",
     "text": [
      "2019-01-01\n",
      "VIIRS version:  2\n"
     ]
    },
    {
     "name": "stderr",
     "output_type": "stream",
     "text": [
      "\r",
      " 85%|████████▌ | 178/209 [17:06<02:19,  4.50s/it]"
     ]
    },
    {
     "name": "stdout",
     "output_type": "stream",
     "text": [
      "2019-01-08\n",
      "VIIRS version:  2\n"
     ]
    },
    {
     "name": "stderr",
     "output_type": "stream",
     "text": [
      "\r",
      " 86%|████████▌ | 179/209 [17:24<04:24,  8.80s/it]"
     ]
    },
    {
     "name": "stdout",
     "output_type": "stream",
     "text": [
      "2019-01-15\n",
      "VIIRS version:  2\n"
     ]
    },
    {
     "name": "stderr",
     "output_type": "stream",
     "text": [
      "\r",
      " 86%|████████▌ | 180/209 [17:28<03:30,  7.26s/it]"
     ]
    },
    {
     "name": "stdout",
     "output_type": "stream",
     "text": [
      "2019-01-22\n",
      "VIIRS version:  2\n"
     ]
    },
    {
     "name": "stderr",
     "output_type": "stream",
     "text": [
      "\r",
      " 87%|████████▋ | 181/209 [17:38<03:42,  7.93s/it]"
     ]
    },
    {
     "name": "stdout",
     "output_type": "stream",
     "text": [
      "2019-01-29\n",
      "VIIRS version:  2\n"
     ]
    },
    {
     "name": "stderr",
     "output_type": "stream",
     "text": [
      "\r",
      " 87%|████████▋ | 182/209 [18:00<05:33, 12.34s/it]"
     ]
    },
    {
     "name": "stdout",
     "output_type": "stream",
     "text": [
      "2019-02-05\n",
      "VIIRS version:  2\n"
     ]
    },
    {
     "name": "stderr",
     "output_type": "stream",
     "text": [
      "\r",
      " 88%|████████▊ | 183/209 [18:10<05:03, 11.67s/it]"
     ]
    },
    {
     "name": "stdout",
     "output_type": "stream",
     "text": [
      "2019-02-12\n",
      "VIIRS version:  2\n"
     ]
    },
    {
     "name": "stderr",
     "output_type": "stream",
     "text": [
      "\r",
      " 88%|████████▊ | 184/209 [18:21<04:41, 11.25s/it]"
     ]
    },
    {
     "name": "stdout",
     "output_type": "stream",
     "text": [
      "2019-02-19\n",
      "VIIRS version:  2\n"
     ]
    },
    {
     "name": "stderr",
     "output_type": "stream",
     "text": [
      "\r",
      " 89%|████████▊ | 185/209 [18:42<05:45, 14.38s/it]"
     ]
    },
    {
     "name": "stdout",
     "output_type": "stream",
     "text": [
      "2019-02-26\n",
      "VIIRS version:  2\n"
     ]
    },
    {
     "name": "stderr",
     "output_type": "stream",
     "text": [
      "\r",
      " 89%|████████▉ | 186/209 [18:45<04:14, 11.04s/it]"
     ]
    },
    {
     "name": "stdout",
     "output_type": "stream",
     "text": [
      "2019-03-05\n",
      "VIIRS version:  2\n"
     ]
    },
    {
     "name": "stderr",
     "output_type": "stream",
     "text": [
      "\r",
      " 89%|████████▉ | 187/209 [18:49<03:11,  8.70s/it]"
     ]
    },
    {
     "name": "stdout",
     "output_type": "stream",
     "text": [
      "2019-03-12\n",
      "VIIRS version:  2\n"
     ]
    },
    {
     "name": "stderr",
     "output_type": "stream",
     "text": [
      "\r",
      " 90%|████████▉ | 188/209 [18:52<02:30,  7.19s/it]"
     ]
    },
    {
     "name": "stdout",
     "output_type": "stream",
     "text": [
      "2019-03-19\n",
      "VIIRS version:  2\n"
     ]
    },
    {
     "name": "stderr",
     "output_type": "stream",
     "text": [
      "\r",
      " 90%|█████████ | 189/209 [19:18<04:16, 12.82s/it]"
     ]
    },
    {
     "name": "stdout",
     "output_type": "stream",
     "text": [
      "2019-03-24\n",
      "VIIRS version:  2\n"
     ]
    },
    {
     "name": "stderr",
     "output_type": "stream",
     "text": [
      "\r",
      " 91%|█████████ | 190/209 [19:53<06:05, 19.25s/it]"
     ]
    },
    {
     "name": "stdout",
     "output_type": "stream",
     "text": [
      "2019-03-26\n",
      "VIIRS version:  2\n"
     ]
    },
    {
     "name": "stderr",
     "output_type": "stream",
     "text": [
      "\r",
      " 91%|█████████▏| 191/209 [19:59<04:36, 15.37s/it]"
     ]
    },
    {
     "name": "stdout",
     "output_type": "stream",
     "text": [
      "2019-04-02\n",
      "VIIRS version:  2\n"
     ]
    },
    {
     "name": "stderr",
     "output_type": "stream",
     "text": [
      "\r",
      " 92%|█████████▏| 192/209 [20:06<03:36, 12.75s/it]"
     ]
    },
    {
     "name": "stdout",
     "output_type": "stream",
     "text": [
      "2019-04-09\n",
      "VIIRS version:  2\n"
     ]
    },
    {
     "name": "stderr",
     "output_type": "stream",
     "text": [
      "\r",
      " 92%|█████████▏| 193/209 [20:10<02:42, 10.14s/it]"
     ]
    },
    {
     "name": "stdout",
     "output_type": "stream",
     "text": [
      "2019-04-16\n",
      "VIIRS version:  2\n"
     ]
    },
    {
     "name": "stderr",
     "output_type": "stream",
     "text": [
      "\r",
      " 93%|█████████▎| 194/209 [20:16<02:16,  9.11s/it]"
     ]
    },
    {
     "name": "stdout",
     "output_type": "stream",
     "text": [
      "2019-04-23\n",
      "VIIRS version:  2\n"
     ]
    },
    {
     "name": "stderr",
     "output_type": "stream",
     "text": [
      "\r",
      " 93%|█████████▎| 195/209 [20:24<02:00,  8.62s/it]"
     ]
    },
    {
     "name": "stdout",
     "output_type": "stream",
     "text": [
      "2019-04-28\n",
      "VIIRS version:  2\n"
     ]
    },
    {
     "name": "stderr",
     "output_type": "stream",
     "text": [
      "\r",
      " 94%|█████████▍| 196/209 [20:36<02:07,  9.82s/it]"
     ]
    },
    {
     "name": "stdout",
     "output_type": "stream",
     "text": [
      "2019-04-30\n",
      "VIIRS version:  2\n"
     ]
    },
    {
     "name": "stderr",
     "output_type": "stream",
     "text": [
      "\r",
      " 94%|█████████▍| 197/209 [20:44<01:50,  9.23s/it]"
     ]
    },
    {
     "name": "stdout",
     "output_type": "stream",
     "text": [
      "2019-05-07\n",
      "VIIRS version:  2\n"
     ]
    },
    {
     "name": "stderr",
     "output_type": "stream",
     "text": [
      "\r",
      " 95%|█████████▍| 198/209 [20:50<01:31,  8.31s/it]"
     ]
    },
    {
     "name": "stdout",
     "output_type": "stream",
     "text": [
      "2019-05-14\n",
      "VIIRS version:  2\n"
     ]
    },
    {
     "name": "stderr",
     "output_type": "stream",
     "text": [
      "\r",
      " 95%|█████████▌| 199/209 [20:57<01:17,  7.74s/it]"
     ]
    },
    {
     "name": "stdout",
     "output_type": "stream",
     "text": [
      "2019-05-21\n",
      "VIIRS version:  2\n"
     ]
    },
    {
     "name": "stderr",
     "output_type": "stream",
     "text": [
      "\r",
      " 96%|█████████▌| 200/209 [21:03<01:04,  7.13s/it]"
     ]
    },
    {
     "name": "stdout",
     "output_type": "stream",
     "text": [
      "2019-05-28\n",
      "VIIRS version:  2\n"
     ]
    },
    {
     "name": "stderr",
     "output_type": "stream",
     "text": [
      "\r",
      " 96%|█████████▌| 201/209 [21:10<00:56,  7.09s/it]"
     ]
    },
    {
     "name": "stdout",
     "output_type": "stream",
     "text": [
      "2019-06-04\n",
      "VIIRS version:  2\n"
     ]
    },
    {
     "name": "stderr",
     "output_type": "stream",
     "text": [
      "\r",
      " 97%|█████████▋| 202/209 [21:16<00:48,  6.97s/it]"
     ]
    },
    {
     "name": "stdout",
     "output_type": "stream",
     "text": [
      "2019-06-11\n",
      "VIIRS version:  2\n"
     ]
    },
    {
     "name": "stderr",
     "output_type": "stream",
     "text": [
      "\r",
      " 97%|█████████▋| 203/209 [21:19<00:34,  5.80s/it]"
     ]
    },
    {
     "name": "stdout",
     "output_type": "stream",
     "text": [
      "2019-06-18\n",
      "VIIRS version:  2\n"
     ]
    },
    {
     "name": "stderr",
     "output_type": "stream",
     "text": [
      "\r",
      " 98%|█████████▊| 204/209 [21:22<00:24,  4.93s/it]"
     ]
    },
    {
     "name": "stdout",
     "output_type": "stream",
     "text": [
      "2019-06-25\n",
      "VIIRS version:  2\n"
     ]
    },
    {
     "name": "stderr",
     "output_type": "stream",
     "text": [
      "\r",
      " 98%|█████████▊| 205/209 [21:28<00:21,  5.33s/it]"
     ]
    },
    {
     "name": "stdout",
     "output_type": "stream",
     "text": [
      "2019-12-10\n",
      "VIIRS version:  2\n"
     ]
    },
    {
     "name": "stderr",
     "output_type": "stream",
     "text": [
      "\r",
      " 99%|█████████▊| 206/209 [21:38<00:19,  6.47s/it]"
     ]
    },
    {
     "name": "stdout",
     "output_type": "stream",
     "text": [
      "2019-12-17\n",
      "VIIRS version:  2\n"
     ]
    },
    {
     "name": "stderr",
     "output_type": "stream",
     "text": [
      "\r",
      " 99%|█████████▉| 207/209 [21:46<00:14,  7.21s/it]"
     ]
    },
    {
     "name": "stdout",
     "output_type": "stream",
     "text": [
      "2019-12-24\n",
      "VIIRS version:  2\n"
     ]
    },
    {
     "name": "stderr",
     "output_type": "stream",
     "text": [
      "\r",
      "100%|█████████▉| 208/209 [21:55<00:07,  7.48s/it]"
     ]
    },
    {
     "name": "stdout",
     "output_type": "stream",
     "text": [
      "2019-12-31\n",
      "VIIRS version:  2\n"
     ]
    },
    {
     "name": "stderr",
     "output_type": "stream",
     "text": [
      "100%|██████████| 209/209 [22:04<00:00,  6.34s/it]\n"
     ]
    }
   ],
   "source": [
    "print('Connecting the VIIRS SCA observations to lat/long/dates')\n",
    "for date in tqdm(Dates):\n",
    "    print(date)\n",
    "#set up datetime inputs\n",
    "    #date = '2013-01-08' #datetime(2018, 12, 24)\n",
    "    date = pd.to_datetime(date, format='%Y-%m-%d' )\n",
    "    timeDelay = 0\n",
    "    delayedDate = date - pd.Timedelta(days=timeDelay)\n",
    "    delayedDatestr = delayedDate.strftime('%Y-%m-%d')\n",
    "\n",
    "    #set VIIRS data destination\n",
    "    #Change the working directory\n",
    "    if delayedDatestr > f\"{delayedDate.year}-09-30\":\n",
    "        folder = f\"{delayedDate.year}-{delayedDate.year+1}NASA\"\n",
    "\n",
    "    else:\n",
    "        folder = f\"{delayedDate.year-1}-{delayedDate.year}NASA\"\n",
    "\n",
    "\n",
    "    #This is the folder location of the VIIRS data.\n",
    "    dataFolder = str(f\"{datapath}/Data/VIIRS_SCA/{folder}\")\n",
    "\n",
    "    superset = DateDict[delayedDatestr]\n",
    "    superset = gpd.GeoDataFrame(superset, geometry=gpd.points_from_xy(superset.Long, superset.Lat, crs=\"EPSG:4326\"))\n",
    "    superset.total_bounds # This box is likely not necessary as we aready have the data downloaded.\n",
    "\n",
    "    #Connect\n",
    "    extentDF = NSM_SCA.calculateGranuleExtent(bbox, delayedDate)  # Get granule extent\n",
    "    granules = NSM_SCA.fetchGranules(bbox, dataFolder, delayedDate, extentDF, False)  # Fetch granules\n",
    "    raster = NSM_SCA.createMergedRxr(granules[\"filepath\"])\n",
    "    DateDict[delayedDatestr] = NSM_SCA.augment_SCA_TDF(superset, raster, delayedDate, dataFolder, threshold = 20)"
   ]
  },
  {
   "cell_type": "code",
   "execution_count": 6,
   "id": "4f8a3c62",
   "metadata": {},
   "outputs": [
    {
     "name": "stdout",
     "output_type": "stream",
     "text": [
      "2013-01-08\n",
      "2013-01-15\n",
      "2013-01-22\n",
      "2013-01-29\n",
      "2013-02-05\n",
      "2013-02-12\n",
      "2013-02-19\n",
      "2013-02-26\n",
      "2013-03-05\n",
      "2013-03-12\n",
      "2013-03-19\n",
      "2013-03-26\n",
      "2013-04-02\n",
      "2013-04-09\n",
      "2013-04-16\n",
      "2013-04-23\n",
      "2013-04-30\n",
      "2013-05-07\n",
      "2013-05-14\n",
      "2013-05-21\n",
      "2013-05-28\n",
      "2013-06-01\n",
      "2013-06-04\n",
      "2013-06-08\n",
      "2013-06-11\n",
      "2013-06-18\n",
      "2013-06-25\n",
      "2013-12-10\n",
      "2013-12-17\n",
      "2013-12-24\n",
      "2013-12-31\n",
      "2014-01-07\n",
      "2014-01-14\n",
      "2014-01-21\n",
      "2014-01-28\n",
      "2014-02-04\n",
      "2014-02-11\n",
      "2014-02-18\n",
      "2014-02-25\n",
      "2014-03-04\n",
      "2014-03-11\n",
      "2014-03-18\n",
      "2014-03-25\n",
      "2014-04-01\n",
      "2014-04-08\n",
      "2014-04-15\n",
      "2014-04-22\n",
      "2014-04-29\n",
      "2014-05-06\n",
      "2014-05-13\n",
      "2014-05-20\n",
      "2014-05-27\n",
      "2014-06-03\n",
      "2014-06-10\n",
      "2014-06-17\n",
      "2014-06-24\n",
      "2014-12-09\n",
      "2014-12-16\n",
      "2014-12-23\n",
      "2014-12-30\n",
      "2015-01-06\n",
      "2015-01-13\n",
      "2015-01-20\n",
      "2015-01-27\n",
      "2015-02-03\n",
      "2015-02-10\n",
      "2015-02-17\n",
      "2015-02-24\n",
      "2015-03-03\n",
      "2015-03-10\n",
      "2015-03-17\n",
      "2015-03-24\n",
      "2015-03-31\n",
      "2015-04-07\n",
      "2015-04-14\n",
      "2015-04-21\n",
      "2015-04-28\n",
      "2015-05-05\n",
      "2015-05-12\n",
      "2015-05-19\n",
      "2015-05-26\n",
      "2015-06-02\n",
      "2015-06-09\n",
      "2015-06-16\n",
      "2015-06-23\n",
      "2015-06-30\n",
      "2015-12-08\n",
      "2015-12-15\n",
      "2015-12-22\n",
      "2015-12-29\n",
      "2016-01-05\n",
      "2016-01-12\n",
      "2016-01-19\n",
      "2016-01-26\n",
      "2016-02-02\n",
      "2016-02-09\n",
      "2016-02-16\n",
      "2016-02-23\n",
      "2016-03-01\n",
      "2016-03-08\n",
      "2016-03-15\n",
      "2016-03-22\n",
      "2016-03-29\n",
      "2016-04-05\n",
      "2016-04-12\n",
      "2016-04-19\n",
      "2016-04-26\n",
      "2016-05-03\n",
      "2016-05-10\n",
      "2016-05-17\n",
      "2016-05-24\n",
      "2016-05-31\n",
      "2016-06-07\n",
      "2016-06-14\n",
      "2016-06-21\n",
      "2016-06-28\n",
      "2016-12-13\n",
      "2016-12-20\n",
      "2016-12-27\n",
      "2017-01-03\n",
      "2017-01-10\n",
      "2017-01-17\n",
      "2017-01-24\n",
      "2017-01-31\n",
      "2017-02-07\n",
      "2017-02-14\n",
      "2017-02-21\n",
      "2017-02-28\n",
      "2017-03-07\n",
      "2017-03-14\n",
      "2017-03-21\n",
      "2017-03-28\n",
      "2017-04-04\n",
      "2017-04-11\n",
      "2017-04-18\n",
      "2017-04-25\n",
      "2017-05-02\n",
      "2017-05-09\n",
      "2017-05-16\n",
      "2017-05-23\n",
      "2017-05-30\n",
      "2017-06-06\n",
      "2017-06-13\n",
      "2017-06-20\n",
      "2017-06-27\n",
      "2017-12-12\n",
      "2017-12-19\n",
      "2017-12-26\n",
      "2018-01-02\n",
      "2018-01-09\n",
      "2018-01-16\n",
      "2018-01-23\n",
      "2018-01-30\n",
      "2018-02-06\n",
      "2018-02-13\n",
      "2018-02-20\n",
      "2018-02-27\n",
      "2018-03-06\n",
      "2018-03-13\n",
      "2018-03-20\n",
      "2018-03-27\n",
      "2018-04-03\n",
      "2018-04-10\n",
      "2018-04-17\n",
      "2018-04-24\n",
      "2018-05-01\n",
      "2018-05-08\n",
      "2018-05-15\n",
      "2018-05-22\n",
      "2018-05-29\n",
      "2018-06-05\n",
      "2018-06-12\n",
      "2018-06-19\n",
      "2018-06-26\n",
      "2018-12-11\n",
      "2018-12-18\n",
      "2018-12-25\n",
      "2019-01-01\n",
      "2019-01-08\n",
      "2019-01-15\n",
      "2019-01-22\n",
      "2019-01-29\n",
      "2019-02-05\n",
      "2019-02-12\n",
      "2019-02-19\n",
      "2019-02-26\n",
      "2019-03-05\n",
      "2019-03-12\n",
      "2019-03-19\n",
      "2019-03-24\n",
      "2019-03-26\n",
      "2019-04-02\n",
      "2019-04-09\n",
      "2019-04-16\n",
      "2019-04-23\n",
      "2019-04-28\n",
      "2019-04-30\n",
      "2019-05-07\n",
      "2019-05-14\n",
      "2019-05-21\n",
      "2019-05-28\n",
      "2019-06-04\n",
      "2019-06-11\n",
      "2019-06-18\n",
      "2019-06-25\n",
      "2019-12-10\n",
      "2019-12-17\n",
      "2019-12-24\n",
      "2019-12-31\n"
     ]
    }
   ],
   "source": [
    "for date in Dates:\n",
    "    print(date)"
   ]
  },
  {
   "cell_type": "markdown",
   "id": "3356d9be",
   "metadata": {},
   "source": [
    "## Put DataFrames back together and connect with regions"
   ]
  },
  {
   "cell_type": "code",
   "execution_count": 7,
   "id": "af01a4da",
   "metadata": {},
   "outputs": [],
   "source": [
    "TrainDF_SCA = pd.DataFrame()\n",
    "for date in Dates:\n",
    "    TrainDF_SCA = pd.concat([TrainDF_SCA, DateDict[date]])"
   ]
  },
  {
   "cell_type": "code",
   "execution_count": 8,
   "id": "311d87b2",
   "metadata": {},
   "outputs": [
    {
     "name": "stderr",
     "output_type": "stream",
     "text": [
      "100%|██████████| 45373/45373 [00:12<00:00, 3597.10it/s]\n"
     ]
    }
   ],
   "source": [
    "#Pass the DF through the region_id function from the NSM\n",
    "TrainDF_SCA['Region'] = 'N/A'\n",
    "TrainDF_SCA = NSM_SCA.Region_id(TrainDF_SCA)"
   ]
  },
  {
   "cell_type": "code",
   "execution_count": 9,
   "id": "3bdd4d25",
   "metadata": {
    "scrolled": true
   },
   "outputs": [
    {
     "name": "stderr",
     "output_type": "stream",
     "text": [
      "100%|██████████| 23/23 [00:01<00:00, 16.56it/s]\n"
     ]
    }
   ],
   "source": [
    "RegionTrain_SCA = {}\n",
    "\n",
    "#Put into RegionTrain DataFrame\n",
    "for region in tqdm(Region_list):   \n",
    "    #select the data for each region\n",
    "    Region_SCA = TrainDF_SCA[TrainDF_SCA['Region'] == region]\n",
    "    #load the RegionTrain DF, select the key grid cell colums, and add to training DF.\n",
    "    Region_DF = pd.read_hdf(f\"{training_path}/RegionTrain_Final.h5\", region)\n",
    "\n",
    "    #select key columns\n",
    "    cols = ['Date', 'Long', 'Lat', 'VIIRS_SCA', 'hasSnow']\n",
    "    Region_SCA =Region_SCA[cols]\n",
    "    \n",
    "    #reset indices\n",
    "    Region_SCA.reset_index(inplace = True)\n",
    "    Region_DF.reset_index(inplace = True)\n",
    "\n",
    "    #Merge DFs by lat/long/date\n",
    "    Merged = pd.merge(Region_DF, Region_SCA,  how='left', left_on=['index', 'Date','Long', 'Lat'], right_on = ['index','Date','Long', 'Lat'])\n",
    "    Merged.set_index('index', inplace = True, drop = True)\n",
    "    \n",
    "    #Put into RegionTrainDF\n",
    "    RegionTrain_SCA[region] = Merged\n",
    "    \n",
    "    #Save to h5\n",
    "    RegionTrain_SCA[region].to_hdf(f\"{datapath}/Data/VIIRS_SCA/Training_Testing_Data/Provided_Data/RegionTrain_SCA.h5\", region)\n"
   ]
  },
  {
   "cell_type": "code",
   "execution_count": null,
   "id": "national-oriental",
   "metadata": {},
   "outputs": [],
   "source": []
  }
 ],
 "metadata": {
  "kernelspec": {
   "display_name": "NSM_env",
   "language": "python",
   "name": "nsm_env"
  },
  "language_info": {
   "codemirror_mode": {
    "name": "ipython",
    "version": 3
   },
   "file_extension": ".py",
   "mimetype": "text/x-python",
   "name": "python",
   "nbconvert_exporter": "python",
   "pygments_lexer": "ipython3",
   "version": "3.9.12"
  }
 },
 "nbformat": 4,
 "nbformat_minor": 5
}
