{
 "cells": [
  {
   "cell_type": "markdown",
   "metadata": {
    "tags": [],
    "user_expressions": []
   },
   "source": [
    "<img align = 'center' src=\"./Images/ML_SWE.jpg\" alt = 'image' width = '1000'/>\n",
    "\n",
    "\n",
    "# Model Training\n",
    "\n",
    "\n",
    "This notebook exemplifies the Sierra Snow Model (SSM) (a derivation of the National Snow Model (NSM)) data processing (through the DataProcess.py script), and model training, predictions, and preliminary evaluation via the MLP_model.py script.\n",
    "With the focus of GeoSMART Hack Week to advance machine learning modeling skill sets, the motivation of the SSM project is for participants to modify the MLP_model.py script.\n",
    "Suggested modifications include optimizing the current multilayered-perceptron (MLP) neural network algorithm or selecting and optimizing a different ML algorithm (strongly encouraged).\n",
    "We encourage advanced modelers to contact Dr. Ryan Johnson (rjohnson18@ua.edu) for ideas and methods to optimize the model framework, there are several concepts of interest including feature engineering, domain optimization, feature selection, etc.\n",
    "\n",
    "The following workflow exemplifies the steps and python files to process the training data, train a model, produce predictions, and perform preliminary evaluations"
   ]
  },
  {
   "cell_type": "code",
   "execution_count": 3,
   "metadata": {
    "tags": []
   },
   "outputs": [],
   "source": [
    "import DataProcess\n",
    "import MLP_Model"
   ]
  },
  {
   "cell_type": "markdown",
   "metadata": {
    "user_expressions": []
   },
   "source": [
    "## Model Training and Testing Schema\n",
    "\n",
    "The motivation the project is to advance the SSM skill for extrapolating regional SWE dynamics from in-situ observations.\n",
    "To develop and test the SSM, we will train the model on NASA Airborne Snow Observatory (ASO) and snow course observations spanning 2013-2018, and some of 2019.\n",
    "Within this training dataset, model training will use a random 75-25\\% train-test data split. \n",
    "The random sample function will be 1234 to ensure all participants models use the same training and testing data for this phase of model development - note, this will support an intermodel comparision.\n",
    "\n",
    "Model validation will be on water year 2019 and use the [NWM_MLP_2019_Simulation]('./NWM_MLP_2019_Simulation.ipynb').\n",
    "This historical simulation will function as a hindcast, and use the 2019 water year NASA ASO and snow course observations to determine model performance. \n",
    "\n",
    "\n",
    "Upon the completion of model training, model execution predicts 1-km resolution SWE from data up to the current date of observation provided Latitude, Longitude, corresponding topographic data, and neighboring observation input features. From the sampling of test features, Chapter [Evaluation]('./evaluation.ipynb') compares the modeled 1-km grid SWE values to the observed values."
   ]
  },
  {
   "cell_type": "code",
   "execution_count": 70,
   "metadata": {
    "tags": []
   },
   "outputs": [
    {
     "name": "stdout",
     "output_type": "stream",
     "text": [
      "Processing training dataframes for each region\n",
      "S_Sierras_High\n"
     ]
    }
   ],
   "source": [
    "#Define hold out year\n",
    "HOY = 2019\n",
    "modelname = \"Neural_Network\"\n",
    "#removed because they have performance KGE > 0.6 in hindcast\n",
    "#['N_Sierras', 'S_Sierras_Low', 'Greater_Yellowstone', 'N_Co_Rockies', 'SW_Mont', 'SW_Co_Rockies', 'GBasin', 'N_Wasatch', 'N_Cascade', 'S_Wasatch', 'SW_Mtns', 'E_WA_N_Id_W_Mont', 'S_Wyoming', 'SE_Co_Rockies',\n",
    "# 'Sawtooth', 'Ca_Coast', 'E_Or', 'N_Yellowstone', 'S_Cascade', 'Wa_Coast', 'Greater_Glacier', 'Or_Coast']\n",
    "\n",
    "Region_list = ['S_Sierras_High']\n",
    "#Run data processing script to partition key regional dataframes\n",
    "#note, need to load RegionTrain_SCA.h5,\n",
    "RegionTrain, RegionTest, RegionObs_Train, RegionObs_Test, RegionTest_notScaled = DataProcess.DataProcess(HOY, modelname, Region_list)"
   ]
  },
  {
   "cell_type": "markdown",
   "metadata": {
    "tags": [],
    "user_expressions": []
   },
   "source": [
    "## Multilayered Precepton Network (MLP)\n",
    "Given the identified optimal feature sets using recursive feature elimination (RFE), this step trains your model.\n",
    "Here, the model is an ANN multilayer perceptron (MLP) regression model to estimate SWE found in the [MLP_Model]('./MLP_Model.py') file.\n",
    "This file serves as a template for Hackweek participants to modify and by following the template, participants will be able to streamline model development and evaluation.\n",
    "\n",
    "<img align = 'left' src=\"./Images/MLP_architecture.png\" alt = 'image' width = '450'/>\n",
    "\n",
    "The MLP is a classical type of feedforward ANN, successfully and frequently applied in environmental modeling applications.\n",
    "The MLP regression model estimates a target variable by learning a non-linear function to describe the target from an input vector of features.\n",
    "It performs learning via a back-propagation algorithm over a series of hidden layers containing interconnected nodes (neurons). \n",
    "The neurons connect bordering layers by a summation of weights and an activation function transforms model outputs to predicted values (i.e., SWE (in)). \n",
    "The model calculates error and adjusts the weights to minimize the error during model training, supporting the use of \n",
    "MLPs to effectively describe a target variable with any function, continuous or discontinuous. \n",
    "\n",
    "Model training leveraged the Keras API within the TensorFlow library.\n",
    "We selected the popular, open-source TensorFlow and Keras platforms for their wide applicability and capabilities in deep learning.\n",
    "The MLP model for the region consists of an input layer containing nodes for each feature in the optimized feature space, 7 dense hidden layers, and an output layer of the target SWE value. \n",
    "Model formulation uses the Rectified Linear Unit (ReLu) activation function to transform each hidden layer to non-linearize the solution."
   ]
  },
  {
   "cell_type": "code",
   "execution_count": 74,
   "metadata": {
    "scrolled": true,
    "tags": []
   },
   "outputs": [
    {
     "name": "stdout",
     "output_type": "stream",
     "text": [
      "Training model for:  S_Sierras_High\n",
      "All previous files deleted successfully.\n",
      "Model: \"model_69\"\n",
      "_________________________________________________________________\n",
      " Layer (type)                Output Shape              Param #   \n",
      "=================================================================\n",
      " input_70 (InputLayer)       [(None, 40)]              0         \n",
      "                                                                 \n",
      " dense_483 (Dense)           (None, 128)               5248      \n",
      "                                                                 \n",
      " dense_484 (Dense)           (None, 128)               16512     \n",
      "                                                                 \n",
      " dense_485 (Dense)           (None, 64)                8256      \n",
      "                                                                 \n",
      " dense_486 (Dense)           (None, 64)                4160      \n",
      "                                                                 \n",
      " dense_487 (Dense)           (None, 32)                2080      \n",
      "                                                                 \n",
      " dense_488 (Dense)           (None, 16)                528       \n",
      "                                                                 \n",
      " dense_489 (Dense)           (None, 1)                 17        \n",
      "                                                                 \n",
      "=================================================================\n",
      "Total params: 36,801\n",
      "Trainable params: 36,801\n",
      "Non-trainable params: 0\n",
      "_________________________________________________________________\n",
      "None\n"
     ]
    }
   ],
   "source": [
    "#model training, each participants model will be different but should follow the prescribed input feature template\n",
    "epochs= 60\n",
    "MLP_Model.Model_train(epochs, RegionTrain, RegionTest, RegionObs_Train, RegionObs_Test, Region_list)"
   ]
  },
  {
   "cell_type": "markdown",
   "metadata": {
    "user_expressions": []
   },
   "source": [
    "## Make predictions on the random sample of testing data\n",
    "<img align = 'center' src=\"./Images/predictivemodeling.jpg\" alt = 'image' width = '600'/>\n",
    "\n",
    "The next phase of model development is to examine model performance on the random sample of testing data.\n",
    "Refining model predictions at this phase will ensure the best model performance for the Hold-Out-Year validation set."
   ]
  },
  {
   "cell_type": "code",
   "execution_count": 75,
   "metadata": {
    "scrolled": true,
    "tags": []
   },
   "outputs": [
    {
     "name": "stdout",
     "output_type": "stream",
     "text": [
      "18/18 [==============================] - 0s 1ms/step\n"
     ]
    }
   ],
   "source": [
    "#Need to create Predictions folder if running for the first time\n",
    "Predictions = MLP_Model.Model_predict(RegionTest, RegionObs_Test, RegionTest_notScaled, Region_list)"
   ]
  },
  {
   "cell_type": "markdown",
   "metadata": {
    "user_expressions": []
   },
   "source": [
    "## Perform Preliminary Model Evaluation\n",
    "\n",
    "How does your model performance? \n",
    "We are using simple model evaluation metrics of R2 and RMSE to guage model performance.\n",
    "You will perform a more exhaustive model evaluation in the [Evaluation]('./evaluation.ipynb') chapter."
   ]
  },
  {
   "cell_type": "code",
   "execution_count": 76,
   "metadata": {
    "scrolled": true,
    "tags": []
   },
   "outputs": [
    {
     "name": "stdout",
     "output_type": "stream",
     "text": [
      "Preliminary Model Analysis for:  S_Sierras_High\n",
      " R2 is  0.9804088973202061\n",
      " RMSE is  6.565937255891009\n",
      " R2 fSCA is  0.9683991140774757\n",
      " RMSE fSCA is  8.33905651149128\n"
     ]
    },
    {
     "data": {
      "image/png": "[encoded data removed]",
      "text/plain": [
       "<Figure size 432x288 with 1 Axes>"
      ]
     },
     "metadata": {
      "needs_background": "light"
     },
     "output_type": "display_data"
    },
    {
     "data": {
      "text/html": [
       "<div>\n",
       "<style scoped>\n",
       "    .dataframe tbody tr th:only-of-type {\n",
       "        vertical-align: middle;\n",
       "    }\n",
       "\n",
       "    .dataframe tbody tr th {\n",
       "        vertical-align: top;\n",
       "    }\n",
       "\n",
       "    .dataframe thead th {\n",
       "        text-align: right;\n",
       "    }\n",
       "</style>\n",
       "<table border=\"1\" class=\"dataframe\">\n",
       "  <thead>\n",
       "    <tr style=\"text-align: right;\">\n",
       "      <th></th>\n",
       "      <th>Region</th>\n",
       "      <th>R2</th>\n",
       "      <th>RMSE</th>\n",
       "      <th>R2_fSCA</th>\n",
       "      <th>RMSE_fSCA</th>\n",
       "    </tr>\n",
       "  </thead>\n",
       "  <tbody>\n",
       "    <tr>\n",
       "      <th>0</th>\n",
       "      <td>S_Sierras_High</td>\n",
       "      <td>0.98</td>\n",
       "      <td>6.57</td>\n",
       "      <td>0.97</td>\n",
       "      <td>8.34</td>\n",
       "    </tr>\n",
       "  </tbody>\n",
       "</table>\n",
       "</div>"
      ],
      "text/plain": [
       "           Region    R2  RMSE R2_fSCA RMSE_fSCA\n",
       "0  S_Sierras_High  0.98  6.57    0.97      8.34"
      ]
     },
     "execution_count": 76,
     "metadata": {},
     "output_type": "execute_result"
    }
   ],
   "source": [
    "Performance = MLP_Model.Prelim_Eval(Predictions)\n",
    "Performance"
   ]
  },
  {
   "cell_type": "markdown",
   "metadata": {
    "user_expressions": []
   },
   "source": [
    "### Model Evaluation\n",
    "\n",
    "Now that we have a trained model producing acceptable performance, it is time to more rigorously evaluate its performance using the [Standardized Snow Water Equivalent Tool](./SSWEET.py) within an interactive [evaluation notebook](./evaluation.ipynb)."
   ]
  },
  {
   "cell_type": "code",
   "execution_count": 2,
   "metadata": {},
   "outputs": [
    {
     "name": "stderr",
     "output_type": "stream",
     "text": [
      "  0% |                                                                        |\r"
     ]
    },
    {
     "name": "stdout",
     "output_type": "stream",
     "text": [
      "Pushing files to AWS\n"
     ]
    },
    {
     "name": "stderr",
     "output_type": "stream",
     "text": [
      "100% |########################################################################|\n"
     ]
    }
   ],
   "source": [
    "#save model weights and key criteria to AWS S3\n",
    "modelname = 'Neural_Network'\n",
    "Region = 'N_Sierras'\n",
    "MLP_Model.save_model_AWS(modelname, Region)"
   ]
  },
  {
   "cell_type": "code",
   "execution_count": null,
   "metadata": {},
   "outputs": [],
   "source": []
  }
 ],
 "metadata": {
  "kernelspec": {
   "display_name": "NSM_env",
   "language": "python",
   "name": "nsm_env"
  },
  "language_info": {
   "codemirror_mode": {
    "name": "ipython",
    "version": 3
   },
   "file_extension": ".py",
   "mimetype": "text/x-python",
   "name": "python",
   "nbconvert_exporter": "python",
   "pygments_lexer": "ipython3",
   "version": "3.9.12"
  },
  "vscode": {
   "interpreter": {
    "hash": "c446eef832ec964573dc49f36fd16bdbed40cbfbefbf557bc2dc78d9e7968689"
   }
  }
 },
 "nbformat": 4,
 "nbformat_minor": 4
}
