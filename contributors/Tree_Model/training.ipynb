{
 "cells": [
  {
   "cell_type": "markdown",
   "metadata": {
    "tags": [],
    "user_expressions": []
   },
   "source": [
    "<img align = 'center' src=\"./Images/Superior.JPG\" alt = 'image' width = '1000'/>\n",
    "\n",
    "\n",
    "# Model Training\n",
    "\n",
    "\n",
    "This notebook exemplifies the Sierra Snow Model (SSM) (a derivation of the National Snow Model (NSM)) data processing (through the DataProcess.py script), and model training, predictions, and preliminary evaluation via the MLP_model.py script.\n",
    "With the focus of GeoSMART Hack Week to advance machine learning modeling skill sets, the motivation of the SSM project is for participants to modify the MLP_model.py script.\n",
    "Suggested modifications include optimizing the current multilayered-perceptron (MLP) neural network algorithm or selecting and optimizing a different ML algorithm (strongly encouraged).\n",
    "We encourage advanced modelers to contact Dr. Ryan Johnson (rjohnson18@ua.edu) for ideas and methods to optimize the model framework, there are several concepts of interest including feature engineering, domain optimization, feature selection, etc.\n",
    "\n",
    "The following workflow exemplifies the steps and python files to process the training data, train a model, produce predictions, and perform preliminary evaluations"
   ]
  },
  {
   "cell_type": "code",
   "execution_count": 1,
   "metadata": {
    "tags": []
   },
   "outputs": [
    {
     "name": "stderr",
     "output_type": "stream",
     "text": [
      "2023-10-25 20:53:33.490049: W tensorflow/stream_executor/platform/default/dso_loader.cc:64] Could not load dynamic library 'libcudart.so.11.0'; dlerror: libcudart.so.11.0: cannot open shared object file: No such file or directory\n",
      "2023-10-25 20:53:33.490080: I tensorflow/stream_executor/cuda/cudart_stub.cc:29] Ignore above cudart dlerror if you do not have a GPU set up on your machine.\n"
     ]
    }
   ],
   "source": [
    "import os\n",
    "import DataProcess\n",
    "import MLP_Model_SA\n",
    "#Set working directories\n",
    "cwd = os.getcwd()\n",
    "os.chdir(\"..\")\n",
    "os.chdir(\"..\")\n",
    "datapath = os.getcwd()  "
   ]
  },
  {
   "cell_type": "markdown",
   "metadata": {
    "user_expressions": []
   },
   "source": [
    "## Model Training and Testing Schema\n",
    "\n",
    "The motivation the project is to advance the SSM skill for extrapolating regional SWE dynamics from in-situ observations.\n",
    "To develop and test the SSM, we will train the model on NASA Airborne Snow Observatory (ASO) and snow course observations spanning 2013-2018, and some of 2019.\n",
    "Within this training dataset, model training will use a random 75-25\\% train-test data split. \n",
    "The random sample function will be 1234 to ensure all participants models use the same training and testing data for this phase of model development - note, this will support an intermodel comparision.\n",
    "\n",
    "Model validation will be on water year 2019 and use the [NWM_MLP_2019_Simulation]('./NWM_MLP_2019_Simulation.ipynb').\n",
    "This historical simulation will function as a hindcast, and use the 2019 water year NASA ASO and snow course observations to determine model performance. \n",
    "\n",
    "\n",
    "Upon the completion of model training, model execution predicts 1-km resolution SWE from data up to the current date of observation provided Latitude, Longitude, corresponding topographic data, and neighboring observation input features. From the sampling of test features, Chapter [Evaluation]('./evaluation.ipynb') compares the modeled 1-km grid SWE values to the observed values."
   ]
  },
  {
   "cell_type": "code",
   "execution_count": 2,
   "metadata": {
    "tags": []
   },
   "outputs": [
    {
     "data": {
      "text/plain": [
       "'/home/jovyan/Snow-Extrapolation'"
      ]
     },
     "execution_count": 2,
     "metadata": {},
     "output_type": "execute_result"
    }
   ],
   "source": [
    "cwd\n",
    "datapath"
   ]
  },
  {
   "cell_type": "code",
   "execution_count": 3,
   "metadata": {
    "tags": []
   },
   "outputs": [
    {
     "name": "stdout",
     "output_type": "stream",
     "text": [
      "Processing training dataframes for each region\n",
      "N_Sierras\n",
      "S_Sierras_Low\n",
      "S_Sierras_High\n"
     ]
    }
   ],
   "source": [
    "#Define hold out year\n",
    "HOY = 2019\n",
    "#Run data processing script to partition key regional dataframes\n",
    "#note, need to load RegionTrain_SCA.h5,\n",
    "RegionTrain, RegionTest, RegionObs_Train, RegionObs_Test, RegionTest_notScaled = DataProcess.DataProcess(HOY, datapath, cwd)"
   ]
  },
  {
   "cell_type": "markdown",
   "metadata": {
    "user_expressions": []
   },
   "source": [
    "## Multilayered Precepton Network (MLP)\n",
    "Given the identified optimal feature sets using recursive feature elimination (RFE), this step trains your model.\n",
    "Here, the model is an ANN multilayer perceptron (MLP) regression model to estimate SWE found in the [MLP_Model]('./MLP_Model.py') file.\n",
    "This file serves as a template for Hackweek participants to modify and by following the template, participants will be able to streamline model development and evaluation.\n",
    "\n",
    "<img align = 'left' src=\"./Images/MLP_architecture.png\" alt = 'image' width = '450'/>\n",
    "\n",
    "The MLP is a classical type of feedforward ANN, successfully and frequently applied in environmental modeling applications.\n",
    "The MLP regression model estimates a target variable by learning a non-linear function to describe the target from an input vector of features.\n",
    "It performs learning via a back-propagation algorithm over a series of hidden layers containing interconnected nodes (neurons). \n",
    "The neurons connect bordering layers by a summation of weights and an activation function transforms model outputs to predicted values (i.e., SWE (in)). \n",
    "The model calculates error and adjusts the weights to minimize the error during model training, supporting the use of \n",
    "MLPs to effectively describe a target variable with any function, continuous or discontinuous. \n",
    "\n",
    "Model training leveraged the Keras API within the TensorFlow library.\n",
    "We selected the popular, open-source TensorFlow and Keras platforms for their wide applicability and capabilities in deep learning.\n",
    "The MLP model for the region consists of an input layer containing nodes for each feature in the optimized feature space, 7 dense hidden layers, and an output layer of the target SWE value. \n",
    "Model formulation uses the Rectified Linear Unit (ReLu) activation function to transform each hidden layer to non-linearize the solution."
   ]
  },
  {
   "cell_type": "code",
   "execution_count": 4,
   "metadata": {
    "tags": []
   },
   "outputs": [
    {
     "data": {
      "text/html": [
       "<div>\n",
       "<style scoped>\n",
       "    .dataframe tbody tr th:only-of-type {\n",
       "        vertical-align: middle;\n",
       "    }\n",
       "\n",
       "    .dataframe tbody tr th {\n",
       "        vertical-align: top;\n",
       "    }\n",
       "\n",
       "    .dataframe thead th {\n",
       "        text-align: right;\n",
       "    }\n",
       "</style>\n",
       "<table border=\"1\" class=\"dataframe\">\n",
       "  <thead>\n",
       "    <tr style=\"text-align: right;\">\n",
       "      <th></th>\n",
       "      <th>SWE_CDEC__DSS</th>\n",
       "      <th>SWE_SNOTEL__784_CA_SNTL</th>\n",
       "      <th>Prev_SWE_CDEC__MRL</th>\n",
       "      <th>SWE_SNOTEL__1242_NV_SNTL</th>\n",
       "      <th>Prev_SWE_SNOTEL__1258_CA_SNTL</th>\n",
       "      <th>SWE_CDEC__BLA</th>\n",
       "      <th>Long</th>\n",
       "      <th>SWE_SNOTEL__652_NV_SNTL</th>\n",
       "      <th>SWE_CDEC__SLT</th>\n",
       "      <th>SWE_SNOTEL__848_CA_SNTL</th>\n",
       "      <th>...</th>\n",
       "      <th>Delta_SWE_CDEC__BKL</th>\n",
       "      <th>Delta_SWE_SNOTEL__541_CA_SNTL</th>\n",
       "      <th>Delta_SWE_CDEC__SLT</th>\n",
       "      <th>Delta_SWE_CDEC__ADM</th>\n",
       "      <th>Delta_SWE_CDEC__CSL</th>\n",
       "      <th>Delta_SWE_CDEC__HIG</th>\n",
       "      <th>Delta_SWE_CDEC__GKS</th>\n",
       "      <th>Date</th>\n",
       "      <th>VIIRS_SCA</th>\n",
       "      <th>hasSnow</th>\n",
       "    </tr>\n",
       "    <tr>\n",
       "      <th>index</th>\n",
       "      <th></th>\n",
       "      <th></th>\n",
       "      <th></th>\n",
       "      <th></th>\n",
       "      <th></th>\n",
       "      <th></th>\n",
       "      <th></th>\n",
       "      <th></th>\n",
       "      <th></th>\n",
       "      <th></th>\n",
       "      <th></th>\n",
       "      <th></th>\n",
       "      <th></th>\n",
       "      <th></th>\n",
       "      <th></th>\n",
       "      <th></th>\n",
       "      <th></th>\n",
       "      <th></th>\n",
       "      <th></th>\n",
       "      <th></th>\n",
       "      <th></th>\n",
       "    </tr>\n",
       "  </thead>\n",
       "  <tbody>\n",
       "    <tr>\n",
       "      <th>76b55900-eb3d-4d25-a538-f74302ffe72d</th>\n",
       "      <td>0.464345</td>\n",
       "      <td>0.386861</td>\n",
       "      <td>0.383987</td>\n",
       "      <td>0.00000</td>\n",
       "      <td>0.000000</td>\n",
       "      <td>0.720062</td>\n",
       "      <td>1.000000</td>\n",
       "      <td>0.317938</td>\n",
       "      <td>0.430608</td>\n",
       "      <td>0.265152</td>\n",
       "      <td>...</td>\n",
       "      <td>0.638514</td>\n",
       "      <td>0.421818</td>\n",
       "      <td>0.572254</td>\n",
       "      <td>0.773723</td>\n",
       "      <td>0.544118</td>\n",
       "      <td>0.567686</td>\n",
       "      <td>0.389908</td>\n",
       "      <td>2013-02-19</td>\n",
       "      <td>100.0</td>\n",
       "      <td>True</td>\n",
       "    </tr>\n",
       "    <tr>\n",
       "      <th>147d5eb4-e574-47e4-994a-8a2908c06050</th>\n",
       "      <td>0.227197</td>\n",
       "      <td>0.051095</td>\n",
       "      <td>0.223856</td>\n",
       "      <td>0.32199</td>\n",
       "      <td>0.000000</td>\n",
       "      <td>0.421462</td>\n",
       "      <td>0.602041</td>\n",
       "      <td>0.024705</td>\n",
       "      <td>0.189422</td>\n",
       "      <td>0.048485</td>\n",
       "      <td>...</td>\n",
       "      <td>0.604730</td>\n",
       "      <td>0.436364</td>\n",
       "      <td>0.572254</td>\n",
       "      <td>0.729927</td>\n",
       "      <td>0.485294</td>\n",
       "      <td>0.576419</td>\n",
       "      <td>0.408257</td>\n",
       "      <td>2014-01-07</td>\n",
       "      <td>100.0</td>\n",
       "      <td>True</td>\n",
       "    </tr>\n",
       "    <tr>\n",
       "      <th>6dd37e24-0a9c-4749-8ab6-7e26d42925d6</th>\n",
       "      <td>0.240464</td>\n",
       "      <td>0.142336</td>\n",
       "      <td>0.197712</td>\n",
       "      <td>0.26178</td>\n",
       "      <td>0.478873</td>\n",
       "      <td>0.416796</td>\n",
       "      <td>0.086735</td>\n",
       "      <td>0.118153</td>\n",
       "      <td>0.187547</td>\n",
       "      <td>0.050000</td>\n",
       "      <td>...</td>\n",
       "      <td>0.614865</td>\n",
       "      <td>0.436364</td>\n",
       "      <td>0.572254</td>\n",
       "      <td>0.759124</td>\n",
       "      <td>0.612745</td>\n",
       "      <td>0.611354</td>\n",
       "      <td>0.394495</td>\n",
       "      <td>2017-12-19</td>\n",
       "      <td>100.0</td>\n",
       "      <td>True</td>\n",
       "    </tr>\n",
       "  </tbody>\n",
       "</table>\n",
       "<p>3 rows × 108 columns</p>\n",
       "</div>"
      ],
      "text/plain": [
       "                                      SWE_CDEC__DSS  SWE_SNOTEL__784_CA_SNTL  \\\n",
       "index                                                                          \n",
       "76b55900-eb3d-4d25-a538-f74302ffe72d       0.464345                 0.386861   \n",
       "147d5eb4-e574-47e4-994a-8a2908c06050       0.227197                 0.051095   \n",
       "6dd37e24-0a9c-4749-8ab6-7e26d42925d6       0.240464                 0.142336   \n",
       "\n",
       "                                      Prev_SWE_CDEC__MRL  \\\n",
       "index                                                      \n",
       "76b55900-eb3d-4d25-a538-f74302ffe72d            0.383987   \n",
       "147d5eb4-e574-47e4-994a-8a2908c06050            0.223856   \n",
       "6dd37e24-0a9c-4749-8ab6-7e26d42925d6            0.197712   \n",
       "\n",
       "                                      SWE_SNOTEL__1242_NV_SNTL  \\\n",
       "index                                                            \n",
       "76b55900-eb3d-4d25-a538-f74302ffe72d                   0.00000   \n",
       "147d5eb4-e574-47e4-994a-8a2908c06050                   0.32199   \n",
       "6dd37e24-0a9c-4749-8ab6-7e26d42925d6                   0.26178   \n",
       "\n",
       "                                      Prev_SWE_SNOTEL__1258_CA_SNTL  \\\n",
       "index                                                                 \n",
       "76b55900-eb3d-4d25-a538-f74302ffe72d                       0.000000   \n",
       "147d5eb4-e574-47e4-994a-8a2908c06050                       0.000000   \n",
       "6dd37e24-0a9c-4749-8ab6-7e26d42925d6                       0.478873   \n",
       "\n",
       "                                      SWE_CDEC__BLA      Long  \\\n",
       "index                                                           \n",
       "76b55900-eb3d-4d25-a538-f74302ffe72d       0.720062  1.000000   \n",
       "147d5eb4-e574-47e4-994a-8a2908c06050       0.421462  0.602041   \n",
       "6dd37e24-0a9c-4749-8ab6-7e26d42925d6       0.416796  0.086735   \n",
       "\n",
       "                                      SWE_SNOTEL__652_NV_SNTL  SWE_CDEC__SLT  \\\n",
       "index                                                                          \n",
       "76b55900-eb3d-4d25-a538-f74302ffe72d                 0.317938       0.430608   \n",
       "147d5eb4-e574-47e4-994a-8a2908c06050                 0.024705       0.189422   \n",
       "6dd37e24-0a9c-4749-8ab6-7e26d42925d6                 0.118153       0.187547   \n",
       "\n",
       "                                      SWE_SNOTEL__848_CA_SNTL  ...  \\\n",
       "index                                                          ...   \n",
       "76b55900-eb3d-4d25-a538-f74302ffe72d                 0.265152  ...   \n",
       "147d5eb4-e574-47e4-994a-8a2908c06050                 0.048485  ...   \n",
       "6dd37e24-0a9c-4749-8ab6-7e26d42925d6                 0.050000  ...   \n",
       "\n",
       "                                      Delta_SWE_CDEC__BKL  \\\n",
       "index                                                       \n",
       "76b55900-eb3d-4d25-a538-f74302ffe72d             0.638514   \n",
       "147d5eb4-e574-47e4-994a-8a2908c06050             0.604730   \n",
       "6dd37e24-0a9c-4749-8ab6-7e26d42925d6             0.614865   \n",
       "\n",
       "                                      Delta_SWE_SNOTEL__541_CA_SNTL  \\\n",
       "index                                                                 \n",
       "76b55900-eb3d-4d25-a538-f74302ffe72d                       0.421818   \n",
       "147d5eb4-e574-47e4-994a-8a2908c06050                       0.436364   \n",
       "6dd37e24-0a9c-4749-8ab6-7e26d42925d6                       0.436364   \n",
       "\n",
       "                                      Delta_SWE_CDEC__SLT  \\\n",
       "index                                                       \n",
       "76b55900-eb3d-4d25-a538-f74302ffe72d             0.572254   \n",
       "147d5eb4-e574-47e4-994a-8a2908c06050             0.572254   \n",
       "6dd37e24-0a9c-4749-8ab6-7e26d42925d6             0.572254   \n",
       "\n",
       "                                      Delta_SWE_CDEC__ADM  \\\n",
       "index                                                       \n",
       "76b55900-eb3d-4d25-a538-f74302ffe72d             0.773723   \n",
       "147d5eb4-e574-47e4-994a-8a2908c06050             0.729927   \n",
       "6dd37e24-0a9c-4749-8ab6-7e26d42925d6             0.759124   \n",
       "\n",
       "                                      Delta_SWE_CDEC__CSL  \\\n",
       "index                                                       \n",
       "76b55900-eb3d-4d25-a538-f74302ffe72d             0.544118   \n",
       "147d5eb4-e574-47e4-994a-8a2908c06050             0.485294   \n",
       "6dd37e24-0a9c-4749-8ab6-7e26d42925d6             0.612745   \n",
       "\n",
       "                                      Delta_SWE_CDEC__HIG  \\\n",
       "index                                                       \n",
       "76b55900-eb3d-4d25-a538-f74302ffe72d             0.567686   \n",
       "147d5eb4-e574-47e4-994a-8a2908c06050             0.576419   \n",
       "6dd37e24-0a9c-4749-8ab6-7e26d42925d6             0.611354   \n",
       "\n",
       "                                      Delta_SWE_CDEC__GKS       Date  \\\n",
       "index                                                                  \n",
       "76b55900-eb3d-4d25-a538-f74302ffe72d             0.389908 2013-02-19   \n",
       "147d5eb4-e574-47e4-994a-8a2908c06050             0.408257 2014-01-07   \n",
       "6dd37e24-0a9c-4749-8ab6-7e26d42925d6             0.394495 2017-12-19   \n",
       "\n",
       "                                      VIIRS_SCA  hasSnow  \n",
       "index                                                     \n",
       "76b55900-eb3d-4d25-a538-f74302ffe72d      100.0     True  \n",
       "147d5eb4-e574-47e4-994a-8a2908c06050      100.0     True  \n",
       "6dd37e24-0a9c-4749-8ab6-7e26d42925d6      100.0     True  \n",
       "\n",
       "[3 rows x 108 columns]"
      ]
     },
     "execution_count": 4,
     "metadata": {},
     "output_type": "execute_result"
    }
   ],
   "source": [
    "RegionTrain['N_Sierras'].head(3)"
   ]
  },
  {
   "cell_type": "code",
   "execution_count": 5,
   "metadata": {
    "scrolled": true,
    "tags": []
   },
   "outputs": [
    {
     "name": "stdout",
     "output_type": "stream",
     "text": [
      "Training model for:  N_Sierras\n",
      "All previous files deleted successfully.\n",
      "Training model for:  S_Sierras_Low\n"
     ]
    },
    {
     "name": "stderr",
     "output_type": "stream",
     "text": [
      "2023-10-25 20:53:53.371908: W tensorflow/stream_executor/platform/default/dso_loader.cc:64] Could not load dynamic library 'libcuda.so.1'; dlerror: libcuda.so.1: cannot open shared object file: No such file or directory\n",
      "2023-10-25 20:53:53.371938: W tensorflow/stream_executor/cuda/cuda_driver.cc:269] failed call to cuInit: UNKNOWN ERROR (303)\n",
      "2023-10-25 20:53:53.371956: I tensorflow/stream_executor/cuda/cuda_diagnostics.cc:156] kernel driver does not appear to be running on this host (jupyter-shahab122): /proc/driver/nvidia/version does not exist\n",
      "2023-10-25 20:53:53.372196: I tensorflow/core/platform/cpu_feature_guard.cc:193] This TensorFlow binary is optimized with oneAPI Deep Neural Network Library (oneDNN) to use the following CPU instructions in performance-critical operations:  AVX2 AVX512F FMA\n",
      "To enable them in other operations, rebuild TensorFlow with the appropriate compiler flags.\n"
     ]
    },
    {
     "name": "stdout",
     "output_type": "stream",
     "text": [
      "All previous files deleted successfully.\n",
      "Training model for:  S_Sierras_High\n",
      "All previous files deleted successfully.\n"
     ]
    }
   ],
   "source": [
    "#model training, each participants model will be different but should follow the prescribed input feature template\n",
    "epochs= 60\n",
    "MLP_Model.Model_train(cwd, epochs, RegionTrain, RegionTest, RegionObs_Train, RegionObs_Test)"
   ]
  },
  {
   "cell_type": "markdown",
   "metadata": {
    "user_expressions": []
   },
   "source": [
    "## Make predictions on the random sample of testing data\n",
    "<img align = 'center' src=\"./Images/predictivemodeling.jpg\" alt = 'image' width = '600'/>\n",
    "\n",
    "The next phase of model development is to examine model performance on the random sample of testing data.\n",
    "Refining model predictions at this phase will ensure the best model performance for the Hold-Out-Year validation set."
   ]
  },
  {
   "cell_type": "code",
   "execution_count": 6,
   "metadata": {
    "scrolled": true,
    "tags": []
   },
   "outputs": [
    {
     "ename": "OSError",
     "evalue": "Unable to open file (file signature not found)",
     "output_type": "error",
     "traceback": [
      "\u001b[0;31m---------------------------------------------------------------------------\u001b[0m",
      "\u001b[0;31mOSError\u001b[0m                                   Traceback (most recent call last)",
      "Cell \u001b[0;32mIn[6], line 2\u001b[0m\n\u001b[1;32m      1\u001b[0m \u001b[38;5;66;03m#Need to create Predictions folder if running for the first time\u001b[39;00m\n\u001b[0;32m----> 2\u001b[0m Predictions \u001b[38;5;241m=\u001b[39m \u001b[43mMLP_Model_SA\u001b[49m\u001b[38;5;241;43m.\u001b[39;49m\u001b[43mModel_predict\u001b[49m\u001b[43m(\u001b[49m\u001b[43mcwd\u001b[49m\u001b[43m,\u001b[49m\u001b[43m  \u001b[49m\u001b[43mRegionTest\u001b[49m\u001b[43m,\u001b[49m\u001b[43m \u001b[49m\u001b[43mRegionObs_Test\u001b[49m\u001b[43m,\u001b[49m\u001b[43m \u001b[49m\u001b[43mRegionTest_notScaled\u001b[49m\u001b[43m)\u001b[49m\n",
      "File \u001b[0;32m~/Snow-Extrapolation/contributors/NSM_Example/MLP_Model_SA.py:169\u001b[0m, in \u001b[0;36mModel_predict\u001b[0;34m(cwd, RegionTest, RegionObs_Test, RegionTest_notScaled)\u001b[0m\n\u001b[1;32m    167\u001b[0m  bestmodel\u001b[38;5;241m.\u001b[39msort(key\u001b[38;5;241m=\u001b[39mnatural_keys)\n\u001b[1;32m    168\u001b[0m  bestmodel \u001b[38;5;241m=\u001b[39m checkpoint_filepath\u001b[38;5;241m+\u001b[39mbestmodel[\u001b[38;5;241m0\u001b[39m]\n\u001b[0;32m--> 169\u001b[0m  model\u001b[38;5;241m=\u001b[39m\u001b[43mload_model\u001b[49m\u001b[43m(\u001b[49m\u001b[43mbestmodel\u001b[49m\u001b[43m)\u001b[49m\n\u001b[1;32m    170\u001b[0m \u001b[38;5;66;03m# print(bestmodel)\u001b[39;00m\n\u001b[1;32m    171\u001b[0m  \u001b[38;5;66;03m#save this model\u001b[39;00m\n\u001b[1;32m    172\u001b[0m  model\u001b[38;5;241m.\u001b[39msave(\u001b[38;5;124mf\u001b[39m\u001b[38;5;124m\"\u001b[39m\u001b[38;5;132;01m{\u001b[39;00mcheckpoint_filepath\u001b[38;5;132;01m}\u001b[39;00m\u001b[38;5;132;01m{\u001b[39;00mRegion\u001b[38;5;132;01m}\u001b[39;00m\u001b[38;5;124m_model.keras\u001b[39m\u001b[38;5;124m\"\u001b[39m)\n",
      "File \u001b[0;32m~/envs/NSM_env/lib/python3.9/site-packages/keras/utils/traceback_utils.py:67\u001b[0m, in \u001b[0;36mfilter_traceback.<locals>.error_handler\u001b[0;34m(*args, **kwargs)\u001b[0m\n\u001b[1;32m     65\u001b[0m \u001b[38;5;28;01mexcept\u001b[39;00m \u001b[38;5;167;01mException\u001b[39;00m \u001b[38;5;28;01mas\u001b[39;00m e:  \u001b[38;5;66;03m# pylint: disable=broad-except\u001b[39;00m\n\u001b[1;32m     66\u001b[0m   filtered_tb \u001b[38;5;241m=\u001b[39m _process_traceback_frames(e\u001b[38;5;241m.\u001b[39m__traceback__)\n\u001b[0;32m---> 67\u001b[0m   \u001b[38;5;28;01mraise\u001b[39;00m e\u001b[38;5;241m.\u001b[39mwith_traceback(filtered_tb) \u001b[38;5;28;01mfrom\u001b[39;00m \u001b[38;5;28;01mNone\u001b[39;00m\n\u001b[1;32m     68\u001b[0m \u001b[38;5;28;01mfinally\u001b[39;00m:\n\u001b[1;32m     69\u001b[0m   \u001b[38;5;28;01mdel\u001b[39;00m filtered_tb\n",
      "File \u001b[0;32m~/envs/NSM_env/lib/python3.9/site-packages/h5py/_hl/files.py:533\u001b[0m, in \u001b[0;36mFile.__init__\u001b[0;34m(self, name, mode, driver, libver, userblock_size, swmr, rdcc_nslots, rdcc_nbytes, rdcc_w0, track_order, fs_strategy, fs_persist, fs_threshold, fs_page_size, page_buf_size, min_meta_keep, min_raw_keep, locking, alignment_threshold, alignment_interval, **kwds)\u001b[0m\n\u001b[1;32m    525\u001b[0m     fapl \u001b[38;5;241m=\u001b[39m make_fapl(driver, libver, rdcc_nslots, rdcc_nbytes, rdcc_w0,\n\u001b[1;32m    526\u001b[0m                      locking, page_buf_size, min_meta_keep, min_raw_keep,\n\u001b[1;32m    527\u001b[0m                      alignment_threshold\u001b[38;5;241m=\u001b[39malignment_threshold,\n\u001b[1;32m    528\u001b[0m                      alignment_interval\u001b[38;5;241m=\u001b[39malignment_interval,\n\u001b[1;32m    529\u001b[0m                      \u001b[38;5;241m*\u001b[39m\u001b[38;5;241m*\u001b[39mkwds)\n\u001b[1;32m    530\u001b[0m     fcpl \u001b[38;5;241m=\u001b[39m make_fcpl(track_order\u001b[38;5;241m=\u001b[39mtrack_order, fs_strategy\u001b[38;5;241m=\u001b[39mfs_strategy,\n\u001b[1;32m    531\u001b[0m                      fs_persist\u001b[38;5;241m=\u001b[39mfs_persist, fs_threshold\u001b[38;5;241m=\u001b[39mfs_threshold,\n\u001b[1;32m    532\u001b[0m                      fs_page_size\u001b[38;5;241m=\u001b[39mfs_page_size)\n\u001b[0;32m--> 533\u001b[0m     fid \u001b[38;5;241m=\u001b[39m make_fid(name, mode, userblock_size, fapl, fcpl, swmr\u001b[38;5;241m=\u001b[39mswmr)\n\u001b[1;32m    535\u001b[0m \u001b[38;5;28;01mif\u001b[39;00m \u001b[38;5;28misinstance\u001b[39m(libver, \u001b[38;5;28mtuple\u001b[39m):\n\u001b[1;32m    536\u001b[0m     \u001b[38;5;28mself\u001b[39m\u001b[38;5;241m.\u001b[39m_libver \u001b[38;5;241m=\u001b[39m libver\n",
      "File \u001b[0;32m~/envs/NSM_env/lib/python3.9/site-packages/h5py/_hl/files.py:226\u001b[0m, in \u001b[0;36mmake_fid\u001b[0;34m(name, mode, userblock_size, fapl, fcpl, swmr)\u001b[0m\n\u001b[1;32m    224\u001b[0m     \u001b[38;5;28;01mif\u001b[39;00m swmr \u001b[38;5;129;01mand\u001b[39;00m swmr_support:\n\u001b[1;32m    225\u001b[0m         flags \u001b[38;5;241m|\u001b[39m\u001b[38;5;241m=\u001b[39m h5f\u001b[38;5;241m.\u001b[39mACC_SWMR_READ\n\u001b[0;32m--> 226\u001b[0m     fid \u001b[38;5;241m=\u001b[39m \u001b[43mh5f\u001b[49m\u001b[38;5;241;43m.\u001b[39;49m\u001b[43mopen\u001b[49m\u001b[43m(\u001b[49m\u001b[43mname\u001b[49m\u001b[43m,\u001b[49m\u001b[43m \u001b[49m\u001b[43mflags\u001b[49m\u001b[43m,\u001b[49m\u001b[43m \u001b[49m\u001b[43mfapl\u001b[49m\u001b[38;5;241;43m=\u001b[39;49m\u001b[43mfapl\u001b[49m\u001b[43m)\u001b[49m\n\u001b[1;32m    227\u001b[0m \u001b[38;5;28;01melif\u001b[39;00m mode \u001b[38;5;241m==\u001b[39m \u001b[38;5;124m'\u001b[39m\u001b[38;5;124mr+\u001b[39m\u001b[38;5;124m'\u001b[39m:\n\u001b[1;32m    228\u001b[0m     fid \u001b[38;5;241m=\u001b[39m h5f\u001b[38;5;241m.\u001b[39mopen(name, h5f\u001b[38;5;241m.\u001b[39mACC_RDWR, fapl\u001b[38;5;241m=\u001b[39mfapl)\n",
      "File \u001b[0;32mh5py/_objects.pyx:54\u001b[0m, in \u001b[0;36mh5py._objects.with_phil.wrapper\u001b[0;34m()\u001b[0m\n",
      "File \u001b[0;32mh5py/_objects.pyx:55\u001b[0m, in \u001b[0;36mh5py._objects.with_phil.wrapper\u001b[0;34m()\u001b[0m\n",
      "File \u001b[0;32mh5py/h5f.pyx:106\u001b[0m, in \u001b[0;36mh5py.h5f.open\u001b[0;34m()\u001b[0m\n",
      "\u001b[0;31mOSError\u001b[0m: Unable to open file (file signature not found)"
     ]
    }
   ],
   "source": [
    "#Need to create Predictions folder if running for the first time\n",
    "Predictions = MLP_Model.Model_predict(cwd,  RegionTest, RegionObs_Test, RegionTest_notScaled)"
   ]
  },
  {
   "cell_type": "markdown",
   "metadata": {
    "user_expressions": []
   },
   "source": [
    "## Perform Preliminary Model Evaluation\n",
    "\n",
    "How does your model performance? \n",
    "We are using simple model evaluation metrics of R2 and RMSE to guage model performance.\n",
    "You will perform a more exhaustive model evaluation in the [Evaluation]('./evaluation.ipynb') chapter."
   ]
  },
  {
   "cell_type": "code",
   "execution_count": null,
   "metadata": {
    "scrolled": true,
    "tags": []
   },
   "outputs": [],
   "source": [
    "Performance = MLP_Model.Prelim_Eval(cwd, Predictions)\n",
    "Performance"
   ]
  },
  {
   "cell_type": "markdown",
   "metadata": {
    "user_expressions": []
   },
   "source": [
    "### Model Evaluation\n",
    "\n",
    "Now that we have a trained model producing acceptable performance, it is time to more rigorously evaluate its performance using the [Standardized Snow Water Equivalent Tool](./SSWEET.py) within an interactive [evaluation notebook](./evaluation.ipynb)."
   ]
  },
  {
   "cell_type": "code",
   "execution_count": null,
   "metadata": {},
   "outputs": [],
   "source": []
  }
 ],
 "metadata": {
  "kernelspec": {
   "display_name": "NSM_env",
   "language": "python",
   "name": "nsm_env"
  },
  "language_info": {
   "codemirror_mode": {
    "name": "ipython",
    "version": 3
   },
   "file_extension": ".py",
   "mimetype": "text/x-python",
   "name": "python",
   "nbconvert_exporter": "python",
   "pygments_lexer": "ipython3",
   "version": "3.9.12"
  },
  "vscode": {
   "interpreter": {
    "hash": "c446eef832ec964573dc49f36fd16bdbed40cbfbefbf557bc2dc78d9e7968689"
   }
  }
 },
 "nbformat": 4,
 "nbformat_minor": 4
}
