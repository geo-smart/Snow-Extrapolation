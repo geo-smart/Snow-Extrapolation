{
 "cells": [
  {
   "cell_type": "markdown",
   "metadata": {
    "tags": [],
    "user_expressions": []
   },
   "source": [
    "<img align = 'center' src=\"./Images/Superior.JPG\" alt = 'image' width = '1000'/>\n",
    "\n",
    "\n",
    "# Model Training\n",
    "\n",
    "\n",
    "This notebook exemplifies the Sierra Snow Model (SSM) (a derivation of the National Snow Model (NSM)) data processing (through the DataProcess.py script), and model training, predictions, and preliminary evaluation via the MLP_model.py script.\n",
    "With the focus of GeoSMART Hack Week to advance machine learning modeling skill sets, the motivation of the SSM project is for participants to modify the MLP_model.py script.\n",
    "Suggested modifications include optimizing the current multilayered-perceptron (MLP) neural network algorithm or selecting and optimizing a different ML algorithm (strongly encouraged).\n",
    "We encourage advanced modelers to contact Dr. Ryan Johnson (rjohnson18@ua.edu) for ideas and methods to optimize the model framework, there are several concepts of interest including feature engineering, domain optimization, feature selection, etc.\n",
    "\n",
    "The following workflow exemplifies the steps and python files to process the training data, train a model, produce predictions, and perform preliminary evaluations"
   ]
  },
  {
   "cell_type": "code",
   "execution_count": 1,
   "metadata": {
    "tags": []
   },
   "outputs": [
    {
     "name": "stderr",
     "output_type": "stream",
     "text": [
      "2023-10-24 22:44:37.615260: W tensorflow/stream_executor/platform/default/dso_loader.cc:64] Could not load dynamic library 'libcudart.so.11.0'; dlerror: libcudart.so.11.0: cannot open shared object file: No such file or directory\n",
      "2023-10-24 22:44:37.615291: I tensorflow/stream_executor/cuda/cudart_stub.cc:29] Ignore above cudart dlerror if you do not have a GPU set up on your machine.\n"
     ]
    }
   ],
   "source": [
    "import os\n",
    "import DataProcess\n",
    "import MLP_Model\n",
    "#Set working directories\n",
    "cwd = os.getcwd()\n",
    "os.chdir(\"..\")\n",
    "os.chdir(\"..\")\n",
    "datapath = os.getcwd()  "
   ]
  },
  {
   "cell_type": "markdown",
   "metadata": {
    "user_expressions": []
   },
   "source": [
    "## Model Training and Testing Schema\n",
    "\n",
    "The motivation the project is to advance the SSM skill for extrapolating regional SWE dynamics from in-situ observations.\n",
    "To develop and test the SSM, we will train the model on NASA Airborne Snow Observatory (ASO) and snow course observations spanning 2013-2018, and some of 2019.\n",
    "Within this training dataset, model training will use a random 75-25\\% train-test data split. \n",
    "The random sample function will be 1234 to ensure all participants models use the same training and testing data for this phase of model development - note, this will support an intermodel comparision.\n",
    "\n",
    "Model validation will be on water year 2019 and use the [NWM_MLP_2019_Simulation]('./NWM_MLP_2019_Simulation.ipynb').\n",
    "This historical simulation will function as a hindcast, and use the 2019 water year NASA ASO and snow course observations to determine model performance. \n",
    "\n",
    "\n",
    "Upon the completion of model training, model execution predicts 1-km resolution SWE from data up to the current date of observation provided Latitude, Longitude, corresponding topographic data, and neighboring observation input features. From the sampling of test features, Chapter [Evaluation]('./evaluation.ipynb') compares the modeled 1-km grid SWE values to the observed values."
   ]
  },
  {
   "cell_type": "code",
   "execution_count": 2,
   "metadata": {
    "tags": []
   },
   "outputs": [
    {
     "data": {
      "text/plain": [
       "'/home/jovyan/Snow-Extrapolation/contributors/NSM_Example'"
      ]
     },
     "execution_count": 2,
     "metadata": {},
     "output_type": "execute_result"
    }
   ],
   "source": [
    "cwd"
   ]
  },
  {
   "cell_type": "code",
   "execution_count": 3,
   "metadata": {
    "tags": []
   },
   "outputs": [
    {
     "name": "stdout",
     "output_type": "stream",
     "text": [
      "Processing training dataframes for each region\n",
      "N_Sierras\n",
      "S_Sierras_Low\n",
      "S_Sierras_High\n"
     ]
    }
   ],
   "source": [
    "#Define hold out year\n",
    "HOY = 2019\n",
    "#Run data processing script to partition key regional dataframes\n",
    "#note, need to load RegionTrain_SCA.h5,\n",
    "RegionTrain, RegionTest, RegionObs_Train, RegionObs_Test, RegionTest_notScaled = DataProcess.DataProcess(HOY, datapath, cwd)"
   ]
  },
  {
   "cell_type": "markdown",
   "metadata": {
    "user_expressions": []
   },
   "source": [
    "## Multilayered Precepton Network (MLP)\n",
    "Given the identified optimal feature sets using recursive feature elimination (RFE), this step trains your model.\n",
    "Here, the model is an ANN multilayer perceptron (MLP) regression model to estimate SWE found in the [MLP_Model]('./MLP_Model.py') file.\n",
    "This file serves as a template for Hackweek participants to modify and by following the template, participants will be able to streamline model development and evaluation.\n",
    "\n",
    "<img align = 'left' src=\"./Images/MLP_architecture.png\" alt = 'image' width = '450'/>\n",
    "\n",
    "The MLP is a classical type of feedforward ANN, successfully and frequently applied in environmental modeling applications.\n",
    "The MLP regression model estimates a target variable by learning a non-linear function to describe the target from an input vector of features.\n",
    "It performs learning via a back-propagation algorithm over a series of hidden layers containing interconnected nodes (neurons). \n",
    "The neurons connect bordering layers by a summation of weights and an activation function transforms model outputs to predicted values (i.e., SWE (in)). \n",
    "The model calculates error and adjusts the weights to minimize the error during model training, supporting the use of \n",
    "MLPs to effectively describe a target variable with any function, continuous or discontinuous. \n",
    "\n",
    "Model training leveraged the Keras API within the TensorFlow library.\n",
    "We selected the popular, open-source TensorFlow and Keras platforms for their wide applicability and capabilities in deep learning.\n",
    "The MLP model for the region consists of an input layer containing nodes for each feature in the optimized feature space, 7 dense hidden layers, and an output layer of the target SWE value. \n",
    "Model formulation uses the Rectified Linear Unit (ReLu) activation function to transform each hidden layer to non-linearize the solution."
   ]
  },
  {
   "cell_type": "code",
   "execution_count": 4,
   "metadata": {
    "tags": []
   },
   "outputs": [
    {
     "data": {
      "text/html": [
       "<div>\n",
       "<style scoped>\n",
       "    .dataframe tbody tr th:only-of-type {\n",
       "        vertical-align: middle;\n",
       "    }\n",
       "\n",
       "    .dataframe tbody tr th {\n",
       "        vertical-align: top;\n",
       "    }\n",
       "\n",
       "    .dataframe thead th {\n",
       "        text-align: right;\n",
       "    }\n",
       "</style>\n",
       "<table border=\"1\" class=\"dataframe\">\n",
       "  <thead>\n",
       "    <tr style=\"text-align: right;\">\n",
       "      <th></th>\n",
       "      <th>SWE_CDEC__DSS</th>\n",
       "      <th>SWE_SNOTEL__784_CA_SNTL</th>\n",
       "      <th>Prev_SWE_CDEC__MRL</th>\n",
       "      <th>SWE_SNOTEL__1242_NV_SNTL</th>\n",
       "      <th>Prev_SWE_SNOTEL__1258_CA_SNTL</th>\n",
       "      <th>SWE_CDEC__BLA</th>\n",
       "      <th>Long</th>\n",
       "      <th>SWE_SNOTEL__652_NV_SNTL</th>\n",
       "      <th>SWE_CDEC__SLT</th>\n",
       "      <th>SWE_SNOTEL__848_CA_SNTL</th>\n",
       "      <th>...</th>\n",
       "      <th>Delta_SWE_CDEC__BKL</th>\n",
       "      <th>Delta_SWE_SNOTEL__541_CA_SNTL</th>\n",
       "      <th>Delta_SWE_CDEC__SLT</th>\n",
       "      <th>Delta_SWE_CDEC__ADM</th>\n",
       "      <th>Delta_SWE_CDEC__CSL</th>\n",
       "      <th>Delta_SWE_CDEC__HIG</th>\n",
       "      <th>Delta_SWE_CDEC__GKS</th>\n",
       "      <th>Date</th>\n",
       "      <th>VIIRS_SCA</th>\n",
       "      <th>hasSnow</th>\n",
       "    </tr>\n",
       "    <tr>\n",
       "      <th>index</th>\n",
       "      <th></th>\n",
       "      <th></th>\n",
       "      <th></th>\n",
       "      <th></th>\n",
       "      <th></th>\n",
       "      <th></th>\n",
       "      <th></th>\n",
       "      <th></th>\n",
       "      <th></th>\n",
       "      <th></th>\n",
       "      <th></th>\n",
       "      <th></th>\n",
       "      <th></th>\n",
       "      <th></th>\n",
       "      <th></th>\n",
       "      <th></th>\n",
       "      <th></th>\n",
       "      <th></th>\n",
       "      <th></th>\n",
       "      <th></th>\n",
       "      <th></th>\n",
       "    </tr>\n",
       "  </thead>\n",
       "  <tbody>\n",
       "    <tr>\n",
       "      <th>76b55900-eb3d-4d25-a538-f74302ffe72d</th>\n",
       "      <td>0.464345</td>\n",
       "      <td>0.386861</td>\n",
       "      <td>0.383987</td>\n",
       "      <td>0.00000</td>\n",
       "      <td>0.000000</td>\n",
       "      <td>0.720062</td>\n",
       "      <td>1.000000</td>\n",
       "      <td>0.317938</td>\n",
       "      <td>0.430608</td>\n",
       "      <td>0.265152</td>\n",
       "      <td>...</td>\n",
       "      <td>0.638514</td>\n",
       "      <td>0.421818</td>\n",
       "      <td>0.572254</td>\n",
       "      <td>0.773723</td>\n",
       "      <td>0.544118</td>\n",
       "      <td>0.567686</td>\n",
       "      <td>0.389908</td>\n",
       "      <td>2013-02-19</td>\n",
       "      <td>100.0</td>\n",
       "      <td>True</td>\n",
       "    </tr>\n",
       "    <tr>\n",
       "      <th>147d5eb4-e574-47e4-994a-8a2908c06050</th>\n",
       "      <td>0.227197</td>\n",
       "      <td>0.051095</td>\n",
       "      <td>0.223856</td>\n",
       "      <td>0.32199</td>\n",
       "      <td>0.000000</td>\n",
       "      <td>0.421462</td>\n",
       "      <td>0.602041</td>\n",
       "      <td>0.024705</td>\n",
       "      <td>0.189422</td>\n",
       "      <td>0.048485</td>\n",
       "      <td>...</td>\n",
       "      <td>0.604730</td>\n",
       "      <td>0.436364</td>\n",
       "      <td>0.572254</td>\n",
       "      <td>0.729927</td>\n",
       "      <td>0.485294</td>\n",
       "      <td>0.576419</td>\n",
       "      <td>0.408257</td>\n",
       "      <td>2014-01-07</td>\n",
       "      <td>100.0</td>\n",
       "      <td>True</td>\n",
       "    </tr>\n",
       "    <tr>\n",
       "      <th>6dd37e24-0a9c-4749-8ab6-7e26d42925d6</th>\n",
       "      <td>0.240464</td>\n",
       "      <td>0.142336</td>\n",
       "      <td>0.197712</td>\n",
       "      <td>0.26178</td>\n",
       "      <td>0.478873</td>\n",
       "      <td>0.416796</td>\n",
       "      <td>0.086735</td>\n",
       "      <td>0.118153</td>\n",
       "      <td>0.187547</td>\n",
       "      <td>0.050000</td>\n",
       "      <td>...</td>\n",
       "      <td>0.614865</td>\n",
       "      <td>0.436364</td>\n",
       "      <td>0.572254</td>\n",
       "      <td>0.759124</td>\n",
       "      <td>0.612745</td>\n",
       "      <td>0.611354</td>\n",
       "      <td>0.394495</td>\n",
       "      <td>2017-12-19</td>\n",
       "      <td>100.0</td>\n",
       "      <td>True</td>\n",
       "    </tr>\n",
       "  </tbody>\n",
       "</table>\n",
       "<p>3 rows × 108 columns</p>\n",
       "</div>"
      ],
      "text/plain": [
       "                                      SWE_CDEC__DSS  SWE_SNOTEL__784_CA_SNTL  \\\n",
       "index                                                                          \n",
       "76b55900-eb3d-4d25-a538-f74302ffe72d       0.464345                 0.386861   \n",
       "147d5eb4-e574-47e4-994a-8a2908c06050       0.227197                 0.051095   \n",
       "6dd37e24-0a9c-4749-8ab6-7e26d42925d6       0.240464                 0.142336   \n",
       "\n",
       "                                      Prev_SWE_CDEC__MRL  \\\n",
       "index                                                      \n",
       "76b55900-eb3d-4d25-a538-f74302ffe72d            0.383987   \n",
       "147d5eb4-e574-47e4-994a-8a2908c06050            0.223856   \n",
       "6dd37e24-0a9c-4749-8ab6-7e26d42925d6            0.197712   \n",
       "\n",
       "                                      SWE_SNOTEL__1242_NV_SNTL  \\\n",
       "index                                                            \n",
       "76b55900-eb3d-4d25-a538-f74302ffe72d                   0.00000   \n",
       "147d5eb4-e574-47e4-994a-8a2908c06050                   0.32199   \n",
       "6dd37e24-0a9c-4749-8ab6-7e26d42925d6                   0.26178   \n",
       "\n",
       "                                      Prev_SWE_SNOTEL__1258_CA_SNTL  \\\n",
       "index                                                                 \n",
       "76b55900-eb3d-4d25-a538-f74302ffe72d                       0.000000   \n",
       "147d5eb4-e574-47e4-994a-8a2908c06050                       0.000000   \n",
       "6dd37e24-0a9c-4749-8ab6-7e26d42925d6                       0.478873   \n",
       "\n",
       "                                      SWE_CDEC__BLA      Long  \\\n",
       "index                                                           \n",
       "76b55900-eb3d-4d25-a538-f74302ffe72d       0.720062  1.000000   \n",
       "147d5eb4-e574-47e4-994a-8a2908c06050       0.421462  0.602041   \n",
       "6dd37e24-0a9c-4749-8ab6-7e26d42925d6       0.416796  0.086735   \n",
       "\n",
       "                                      SWE_SNOTEL__652_NV_SNTL  SWE_CDEC__SLT  \\\n",
       "index                                                                          \n",
       "76b55900-eb3d-4d25-a538-f74302ffe72d                 0.317938       0.430608   \n",
       "147d5eb4-e574-47e4-994a-8a2908c06050                 0.024705       0.189422   \n",
       "6dd37e24-0a9c-4749-8ab6-7e26d42925d6                 0.118153       0.187547   \n",
       "\n",
       "                                      SWE_SNOTEL__848_CA_SNTL  ...  \\\n",
       "index                                                          ...   \n",
       "76b55900-eb3d-4d25-a538-f74302ffe72d                 0.265152  ...   \n",
       "147d5eb4-e574-47e4-994a-8a2908c06050                 0.048485  ...   \n",
       "6dd37e24-0a9c-4749-8ab6-7e26d42925d6                 0.050000  ...   \n",
       "\n",
       "                                      Delta_SWE_CDEC__BKL  \\\n",
       "index                                                       \n",
       "76b55900-eb3d-4d25-a538-f74302ffe72d             0.638514   \n",
       "147d5eb4-e574-47e4-994a-8a2908c06050             0.604730   \n",
       "6dd37e24-0a9c-4749-8ab6-7e26d42925d6             0.614865   \n",
       "\n",
       "                                      Delta_SWE_SNOTEL__541_CA_SNTL  \\\n",
       "index                                                                 \n",
       "76b55900-eb3d-4d25-a538-f74302ffe72d                       0.421818   \n",
       "147d5eb4-e574-47e4-994a-8a2908c06050                       0.436364   \n",
       "6dd37e24-0a9c-4749-8ab6-7e26d42925d6                       0.436364   \n",
       "\n",
       "                                      Delta_SWE_CDEC__SLT  \\\n",
       "index                                                       \n",
       "76b55900-eb3d-4d25-a538-f74302ffe72d             0.572254   \n",
       "147d5eb4-e574-47e4-994a-8a2908c06050             0.572254   \n",
       "6dd37e24-0a9c-4749-8ab6-7e26d42925d6             0.572254   \n",
       "\n",
       "                                      Delta_SWE_CDEC__ADM  \\\n",
       "index                                                       \n",
       "76b55900-eb3d-4d25-a538-f74302ffe72d             0.773723   \n",
       "147d5eb4-e574-47e4-994a-8a2908c06050             0.729927   \n",
       "6dd37e24-0a9c-4749-8ab6-7e26d42925d6             0.759124   \n",
       "\n",
       "                                      Delta_SWE_CDEC__CSL  \\\n",
       "index                                                       \n",
       "76b55900-eb3d-4d25-a538-f74302ffe72d             0.544118   \n",
       "147d5eb4-e574-47e4-994a-8a2908c06050             0.485294   \n",
       "6dd37e24-0a9c-4749-8ab6-7e26d42925d6             0.612745   \n",
       "\n",
       "                                      Delta_SWE_CDEC__HIG  \\\n",
       "index                                                       \n",
       "76b55900-eb3d-4d25-a538-f74302ffe72d             0.567686   \n",
       "147d5eb4-e574-47e4-994a-8a2908c06050             0.576419   \n",
       "6dd37e24-0a9c-4749-8ab6-7e26d42925d6             0.611354   \n",
       "\n",
       "                                      Delta_SWE_CDEC__GKS       Date  \\\n",
       "index                                                                  \n",
       "76b55900-eb3d-4d25-a538-f74302ffe72d             0.389908 2013-02-19   \n",
       "147d5eb4-e574-47e4-994a-8a2908c06050             0.408257 2014-01-07   \n",
       "6dd37e24-0a9c-4749-8ab6-7e26d42925d6             0.394495 2017-12-19   \n",
       "\n",
       "                                      VIIRS_SCA  hasSnow  \n",
       "index                                                     \n",
       "76b55900-eb3d-4d25-a538-f74302ffe72d      100.0     True  \n",
       "147d5eb4-e574-47e4-994a-8a2908c06050      100.0     True  \n",
       "6dd37e24-0a9c-4749-8ab6-7e26d42925d6      100.0     True  \n",
       "\n",
       "[3 rows x 108 columns]"
      ]
     },
     "execution_count": 4,
     "metadata": {},
     "output_type": "execute_result"
    }
   ],
   "source": [
    "RegionTrain['N_Sierras'].head(3)"
   ]
  },
  {
   "cell_type": "code",
   "execution_count": 5,
   "metadata": {
    "scrolled": true,
    "tags": []
   },
   "outputs": [
    {
     "name": "stdout",
     "output_type": "stream",
     "text": [
      "Training model for:  N_Sierras\n",
      "All previous files deleted successfully.\n",
      "Model: \"model\"\n",
      "_________________________________________________________________\n",
      " Layer (type)                Output Shape              Param #   \n",
      "=================================================================\n",
      " input_1 (InputLayer)        [(None, 105)]             0         \n",
      "                                                                 \n",
      " dense (Dense)               (None, 128)               13568     \n",
      "                                                                 \n",
      " dense_1 (Dense)             (None, 128)               16512     \n",
      "                                                                 \n",
      " dense_2 (Dense)             (None, 64)                8256      \n",
      "                                                                 \n",
      " dense_3 (Dense)             (None, 64)                4160      \n",
      "                                                                 \n",
      " dense_4 (Dense)             (None, 32)                2080      \n",
      "                                                                 \n",
      " dense_5 (Dense)             (None, 16)                528       \n",
      "                                                                 \n",
      " dense_6 (Dense)             (None, 1)                 17        \n",
      "                                                                 \n",
      "=================================================================\n",
      "Total params: 45,121\n",
      "Trainable params: 45,121\n",
      "Non-trainable params: 0\n",
      "_________________________________________________________________\n",
      "None\n"
     ]
    },
    {
     "name": "stderr",
     "output_type": "stream",
     "text": [
      "2023-10-24 22:44:44.421284: W tensorflow/stream_executor/platform/default/dso_loader.cc:64] Could not load dynamic library 'libcuda.so.1'; dlerror: libcuda.so.1: cannot open shared object file: No such file or directory\n",
      "2023-10-24 22:44:44.421315: W tensorflow/stream_executor/cuda/cuda_driver.cc:269] failed call to cuInit: UNKNOWN ERROR (303)\n",
      "2023-10-24 22:44:44.421331: I tensorflow/stream_executor/cuda/cuda_diagnostics.cc:156] kernel driver does not appear to be running on this host (jupyter-shahab122): /proc/driver/nvidia/version does not exist\n",
      "2023-10-24 22:44:44.421520: I tensorflow/core/platform/cpu_feature_guard.cc:193] This TensorFlow binary is optimized with oneAPI Deep Neural Network Library (oneDNN) to use the following CPU instructions in performance-critical operations:  AVX2 AVX512F FMA\n",
      "To enable them in other operations, rebuild TensorFlow with the appropriate compiler flags.\n"
     ]
    },
    {
     "name": "stdout",
     "output_type": "stream",
     "text": [
      "Training model for:  S_Sierras_Low\n",
      "All previous files deleted successfully.\n",
      "Model: \"model_1\"\n",
      "_________________________________________________________________\n",
      " Layer (type)                Output Shape              Param #   \n",
      "=================================================================\n",
      " input_2 (InputLayer)        [(None, 6)]               0         \n",
      "                                                                 \n",
      " dense_7 (Dense)             (None, 128)               896       \n",
      "                                                                 \n",
      " dense_8 (Dense)             (None, 128)               16512     \n",
      "                                                                 \n",
      " dense_9 (Dense)             (None, 64)                8256      \n",
      "                                                                 \n",
      " dense_10 (Dense)            (None, 64)                4160      \n",
      "                                                                 \n",
      " dense_11 (Dense)            (None, 32)                2080      \n",
      "                                                                 \n",
      " dense_12 (Dense)            (None, 16)                528       \n",
      "                                                                 \n",
      " dense_13 (Dense)            (None, 1)                 17        \n",
      "                                                                 \n",
      "=================================================================\n",
      "Total params: 32,449\n",
      "Trainable params: 32,449\n",
      "Non-trainable params: 0\n",
      "_________________________________________________________________\n",
      "None\n",
      "Training model for:  S_Sierras_High\n",
      "All previous files deleted successfully.\n",
      "Model: \"model_2\"\n",
      "_________________________________________________________________\n",
      " Layer (type)                Output Shape              Param #   \n",
      "=================================================================\n",
      " input_3 (InputLayer)        [(None, 40)]              0         \n",
      "                                                                 \n",
      " dense_14 (Dense)            (None, 128)               5248      \n",
      "                                                                 \n",
      " dense_15 (Dense)            (None, 128)               16512     \n",
      "                                                                 \n",
      " dense_16 (Dense)            (None, 64)                8256      \n",
      "                                                                 \n",
      " dense_17 (Dense)            (None, 64)                4160      \n",
      "                                                                 \n",
      " dense_18 (Dense)            (None, 32)                2080      \n",
      "                                                                 \n",
      " dense_19 (Dense)            (None, 16)                528       \n",
      "                                                                 \n",
      " dense_20 (Dense)            (None, 1)                 17        \n",
      "                                                                 \n",
      "=================================================================\n",
      "Total params: 36,801\n",
      "Trainable params: 36,801\n",
      "Non-trainable params: 0\n",
      "_________________________________________________________________\n",
      "None\n"
     ]
    }
   ],
   "source": [
    "#model training, each participants model will be different but should follow the prescribed input feature template\n",
    "epochs= 60\n",
    "MLP_Model.Model_train(cwd, epochs, RegionTrain, RegionTest, RegionObs_Train, RegionObs_Test)"
   ]
  },
  {
   "cell_type": "markdown",
   "metadata": {
    "user_expressions": []
   },
   "source": [
    "## Make predictions on the random sample of testing data\n",
    "<img align = 'center' src=\"./Images/predictivemodeling.jpg\" alt = 'image' width = '600'/>\n",
    "\n",
    "The next phase of model development is to examine model performance on the random sample of testing data.\n",
    "Refining model predictions at this phase will ensure the best model performance for the Hold-Out-Year validation set."
   ]
  },
  {
   "cell_type": "code",
   "execution_count": 6,
   "metadata": {
    "scrolled": true,
    "tags": []
   },
   "outputs": [
    {
     "name": "stdout",
     "output_type": "stream",
     "text": [
      "8/8 [==============================] - 0s 975us/step\n",
      "9/9 [==============================] - 0s 975us/step\n",
      "18/18 [==============================] - 0s 796us/step\n"
     ]
    }
   ],
   "source": [
    "#Need to create Predictions folder if running for the first time\n",
    "Predictions = MLP_Model.Model_predict(cwd,  RegionTest, RegionObs_Test, RegionTest_notScaled)"
   ]
  },
  {
   "cell_type": "markdown",
   "metadata": {
    "user_expressions": []
   },
   "source": [
    "## Perform Preliminary Model Evaluation\n",
    "\n",
    "How does your model performance? \n",
    "We are using simple model evaluation metrics of R2 and RMSE to guage model performance.\n",
    "You will perform a more exhaustive model evaluation in the [Evaluation]('./evaluation.ipynb') chapter."
   ]
  },
  {
   "cell_type": "code",
   "execution_count": 7,
   "metadata": {
    "scrolled": true,
    "tags": []
   },
   "outputs": [
    {
     "name": "stdout",
     "output_type": "stream",
     "text": [
      "Preliminary Model Analysis for:  N_Sierras\n",
      " R2 is  0.9317817622769933\n",
      " RMSE is  9.514352208085665\n",
      " R2 fSCA is  0.916580144330444\n",
      " RMSE fSCA is  10.52116165201041\n"
     ]
    },
    {
     "data": {
      "image/png": "[encoded data removed]",
      "text/plain": [
       "<Figure size 432x288 with 1 Axes>"
      ]
     },
     "metadata": {
      "needs_background": "light"
     },
     "output_type": "display_data"
    },
    {
     "name": "stdout",
     "output_type": "stream",
     "text": [
      "Preliminary Model Analysis for:  S_Sierras_Low\n",
      " R2 is  0.9819985637639614\n",
      " RMSE is  3.3854561686485263\n",
      " R2 fSCA is  0.8699211419024462\n",
      " RMSE fSCA is  9.100536063990143\n"
     ]
    },
    {
     "data": {
      "image/png": "[encoded data removed]",
      "text/plain": [
       "<Figure size 432x288 with 1 Axes>"
      ]
     },
     "metadata": {
      "needs_background": "light"
     },
     "output_type": "display_data"
    },
    {
     "name": "stdout",
     "output_type": "stream",
     "text": [
      "Preliminary Model Analysis for:  S_Sierras_High\n",
      " R2 is  0.9815688774717813\n",
      " RMSE is  6.368588393408015\n",
      " R2 fSCA is  0.9697376221545552\n",
      " RMSE fSCA is  8.160538397373285\n"
     ]
    },
    {
     "data": {
      "image/png": "[encoded data removed]",
      "text/plain": [
       "<Figure size 432x288 with 1 Axes>"
      ]
     },
     "metadata": {
      "needs_background": "light"
     },
     "output_type": "display_data"
    },
    {
     "data": {
      "text/html": [
       "<div>\n",
       "<style scoped>\n",
       "    .dataframe tbody tr th:only-of-type {\n",
       "        vertical-align: middle;\n",
       "    }\n",
       "\n",
       "    .dataframe tbody tr th {\n",
       "        vertical-align: top;\n",
       "    }\n",
       "\n",
       "    .dataframe thead th {\n",
       "        text-align: right;\n",
       "    }\n",
       "</style>\n",
       "<table border=\"1\" class=\"dataframe\">\n",
       "  <thead>\n",
       "    <tr style=\"text-align: right;\">\n",
       "      <th></th>\n",
       "      <th>Region</th>\n",
       "      <th>R2</th>\n",
       "      <th>RMSE</th>\n",
       "      <th>R2_fSCA</th>\n",
       "      <th>RMSE_fSCA</th>\n",
       "    </tr>\n",
       "  </thead>\n",
       "  <tbody>\n",
       "    <tr>\n",
       "      <th>0</th>\n",
       "      <td>N_Sierras</td>\n",
       "      <td>0.93</td>\n",
       "      <td>9.51</td>\n",
       "      <td>0.92</td>\n",
       "      <td>10.52</td>\n",
       "    </tr>\n",
       "    <tr>\n",
       "      <th>1</th>\n",
       "      <td>S_Sierras_Low</td>\n",
       "      <td>0.98</td>\n",
       "      <td>3.39</td>\n",
       "      <td>0.87</td>\n",
       "      <td>9.1</td>\n",
       "    </tr>\n",
       "    <tr>\n",
       "      <th>2</th>\n",
       "      <td>S_Sierras_High</td>\n",
       "      <td>0.98</td>\n",
       "      <td>6.37</td>\n",
       "      <td>0.97</td>\n",
       "      <td>8.16</td>\n",
       "    </tr>\n",
       "  </tbody>\n",
       "</table>\n",
       "</div>"
      ],
      "text/plain": [
       "           Region    R2  RMSE R2_fSCA RMSE_fSCA\n",
       "0       N_Sierras  0.93  9.51    0.92     10.52\n",
       "1   S_Sierras_Low  0.98  3.39    0.87       9.1\n",
       "2  S_Sierras_High  0.98  6.37    0.97      8.16"
      ]
     },
     "execution_count": 7,
     "metadata": {},
     "output_type": "execute_result"
    }
   ],
   "source": [
    "Performance = MLP_Model.Prelim_Eval(cwd, Predictions)\n",
    "Performance"
   ]
  },
  {
   "cell_type": "markdown",
   "metadata": {
    "user_expressions": []
   },
   "source": [
    "### Model Evaluation\n",
    "\n",
    "Now that we have a trained model producing acceptable performance, it is time to more rigorously evaluate its performance using the [Standardized Snow Water Equivalent Tool](./SSWEET.py) within an interactive [evaluation notebook](./evaluation.ipynb)."
   ]
  },
  {
   "cell_type": "code",
   "execution_count": null,
   "metadata": {},
   "outputs": [],
   "source": []
  }
 ],
 "metadata": {
  "kernelspec": {
   "display_name": "NSM_env",
   "language": "python",
   "name": "nsm_env"
  },
  "language_info": {
   "codemirror_mode": {
    "name": "ipython",
    "version": 3
   },
   "file_extension": ".py",
   "mimetype": "text/x-python",
   "name": "python",
   "nbconvert_exporter": "python",
   "pygments_lexer": "ipython3",
   "version": "3.9.12"
  },
  "vscode": {
   "interpreter": {
    "hash": "c446eef832ec964573dc49f36fd16bdbed40cbfbefbf557bc2dc78d9e7968689"
   }
  }
 },
 "nbformat": 4,
 "nbformat_minor": 4
}
